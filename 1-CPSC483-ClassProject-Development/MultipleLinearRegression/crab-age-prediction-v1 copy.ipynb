{
 "cells": [
  {
   "cell_type": "markdown",
   "id": "b22f0bb2",
   "metadata": {
    "id": "jr1671Mi_jcz",
    "papermill": {
     "duration": 0.033626,
     "end_time": "2021-12-04T15:08:20.008732",
     "exception": false,
     "start_time": "2021-12-04T15:08:19.975106",
     "status": "completed"
    },
    "tags": []
   },
   "source": [
    "# Crab Age Prediction\n",
    "\n",
    "**Project Group:**\n",
    "| Name                       | Email                                 | Student              |\n",
    "| -------------------------- | ------------------------------------- | -------------------- |\n",
    "| Brian Lucero               | 13rianlucero@csu.fullerton.edu        | Undergraduate        |\n",
    "| Justin Heng                | justinheng@csu.fullerton.edu          | Graduate             |\n",
    "\n",
    "\n",
    "## Jupyter Notebook:\n",
    "----------------------------------------------------------------------------------------------------------------------------------\n",
    "\n",
    "## Overview\n",
    "1. **Abstract**\n",
    "    - Paper Summary\n",
    "2. **Introduction**\n",
    "    - The problem \n",
    "    - Why it's important \n",
    "    - Key method and strategy\n",
    "3. **Background**\n",
    "    - Technologies & ideas used to build our method\n",
    "4. **Methods**\n",
    "    - Approach to solving the problem\n",
    "    - Key contributions\n",
    "        - from Justin\n",
    "        - from Brian\n",
    "5. **Experiments**\n",
    "    - Description of ML process workflow \n",
    "        - Featuring the project source code to compliment the experiment process description \n",
    "6. **Conclusion**\n",
    "    - Summary of contributions & results\n",
    "    - Future work\n",
    "7. **References**\n",
    "    - All of our project resources\n",
    "\n",
    "## Abstract\n",
    "> Machine learning can be used to predict the age of crabs. It can be more accurate than simply weighing a crab to estimate its age. Several different models can be used, though support vector regression was found to be the most accurate in this experiment.\n",
    "\n",
    "\n",
    "## Introduction\n",
    "> Crab is very tasty and many countries of the world import huge amounts of crabs for consumption every year. The main benefits of crab farming are, labor cost is very low, production cost is comparatively lower and they grow very fast. Commercial crab farming business is developing the lifestyle of the people of coastal areas. By proper care and management we can earn more from crab farming business than shrimp farming. You can raise mud crabs in two systems. Grow out farming and fattening systems. For a commercial crab farmer knowing the right age of the crab helps them decide if and when to harvest the crabs. Beyond a certain age, there is negligible growth in crab's physical characteristics and hence, it is important to time the harvesting to reduce cost and increase profit.\n",
    "\n",
    "## Background\n",
    "**Technologies used:**\n",
    "> - K-Nearest Neighbours (KNN) - Machine Learning Model\n",
    "> - Multiple Linear Regression - Machine Learning Model\n",
    "> - Support Vector Machine (SVM) - Machine Learning Model\n",
    "> - Feature Selection & Representation\n",
    "> - Evaluation on variety of methods\n",
    "> - Method Selection\n",
    "> - Parameter Tuning\n",
    "> - Classifier Evaluation\n",
    "> - Train-Test Split\n",
    "> - Cross Validation\n",
    "\n",
    "\n",
    "\n",
    "\n",
    "----------------------------------------------------------------------------------------------------------------------------------"
   ]
  },
  {
   "cell_type": "markdown",
   "id": "1888dc19",
   "metadata": {
    "id": "JMXpM1GpBK_N",
    "papermill": {
     "duration": 0.036449,
     "end_time": "2021-12-04T15:08:20.077286",
     "exception": false,
     "start_time": "2021-12-04T15:08:20.040837",
     "status": "completed"
    },
    "tags": []
   },
   "source": [
    "# About data\n",
    "We have our dataset publicly available on [Kaggle](https://www.kaggle.com/sidhus/crab-age-prediction). The dataset has following columns - \n",
    "\n",
    "- Sex : Gender of crab (Male and Female)\n",
    "- Length : Lenght of crab in \n",
    "- Diameter : Diameter of crab in \n",
    "- Height : Height of crab in \n",
    "- Weight : Weight of crab in \n",
    "- Shucked Weight : Weight of crab without shell\n",
    "- Viscera Weight : is weight that wraps around your abdominal organs deep inside body\n",
    "- Shell Weight : Weight of shell\n",
    "- Age : Age of crab in months\n",
    "\n"
   ]
  },
  {
   "cell_type": "markdown",
   "id": "bc98d79b",
   "metadata": {
    "id": "xK7pB6dfDuEa",
    "papermill": {
     "duration": 0.030267,
     "end_time": "2021-12-04T15:08:20.139661",
     "exception": false,
     "start_time": "2021-12-04T15:08:20.109394",
     "status": "completed"
    },
    "tags": []
   },
   "source": [
    "## Importing required libraries"
   ]
  },
  {
   "cell_type": "code",
   "execution_count": null,
   "id": "258a4964",
   "metadata": {
    "execution": {
     "iopub.execute_input": "2021-12-04T15:08:20.209302Z",
     "iopub.status.busy": "2021-12-04T15:08:20.208717Z",
     "iopub.status.idle": "2021-12-04T15:08:21.149273Z",
     "shell.execute_reply": "2021-12-04T15:08:21.149760Z",
     "shell.execute_reply.started": "2021-12-04T15:07:32.404039Z"
    },
    "id": "hWaPU9bZ_W0I",
    "papermill": {
     "duration": 0.981982,
     "end_time": "2021-12-04T15:08:21.150051",
     "exception": false,
     "start_time": "2021-12-04T15:08:20.168069",
     "status": "completed"
    },
    "tags": []
   },
   "outputs": [
    {
     "ename": "",
     "evalue": "",
     "output_type": "error",
     "traceback": [
      "\u001b[1;31mRunning cells with 'Python 3.8.2 64-bit' requires ipykernel package.\n",
      "Run the following command to install 'ipykernel' into the Python environment. \n",
      "Command: '/usr/bin/python3 -m pip install ipykernel -U --user --force-reinstall'"
     ]
    }
   ],
   "source": [
    "## IMPORT THE LIBRARIES\n",
    "## ----------------------------------------------------------------------------------------\n",
    "import pandas\n",
    "import numpy\n",
    "from scipy import stats\n",
    "from matplotlib import pyplot as plt\n",
    "from sklearn.model_selection import train_test_split\n",
    "from sklearn.linear_model import LinearRegression"
   ]
  },
  {
   "cell_type": "markdown",
   "id": "90f82468",
   "metadata": {},
   "source": [
    "## Import the Dataset\n",
    "> \n",
    "> `Read in (.csv) dataset file`\n",
    "> `Build the dataframe variable named \"data\"`\n",
    "> "
   ]
  },
  {
   "cell_type": "code",
   "execution_count": 2,
   "id": "ab78f350",
   "metadata": {
    "execution": {
     "iopub.execute_input": "2021-12-04T15:08:21.215958Z",
     "iopub.status.busy": "2021-12-04T15:08:21.214912Z",
     "iopub.status.idle": "2021-12-04T15:08:21.217596Z",
     "shell.execute_reply": "2021-12-04T15:08:21.218066Z",
     "shell.execute_reply.started": "2021-12-04T15:07:33.349630Z"
    },
    "id": "TaRP6bu1GFdH",
    "papermill": {
     "duration": 0.03929,
     "end_time": "2021-12-04T15:08:21.218233",
     "exception": false,
     "start_time": "2021-12-04T15:08:21.178943",
     "status": "completed"
    },
    "tags": []
   },
   "outputs": [],
   "source": [
    "## IMPORT THE DATA INTO A STRUCTURE:\n",
    "## ----------------------------------------------------------------------------------------\n",
    "data = pandas.read_csv(r\"CrabAgePrediction.csv\").dropna(axis=0)\n",
    "print(data.columns)"
   ]
  },
  {
   "cell_type": "markdown",
   "id": "36647b17",
   "metadata": {},
   "source": [
    "## Create a NEW SexValue Column in dataframe\n",
    "> (set to 0 by default)"
   ]
  },
  {
   "cell_type": "code",
   "execution_count": null,
   "id": "faf91c76",
   "metadata": {},
   "outputs": [],
   "source": [
    "## ----------------------------------------------------------------------------------------\n",
    "data[\"SexValue\"] = 0 \n",
    "print(data.columns)"
   ]
  },
  {
   "cell_type": "markdown",
   "id": "eb6f8e9e",
   "metadata": {},
   "source": [
    "# Convert the Male/Female Values to Numerical Values\n",
    "> This is so they may be used in dataset."
   ]
  },
  {
   "cell_type": "code",
   "execution_count": null,
   "id": "cb41d9b0",
   "metadata": {},
   "outputs": [],
   "source": [
    "## CONVERT THE MALE/FEMALE VALUES TO NUMERICAL VALUES:\n",
    "## ----------------------------------------------------------------------------------------\n",
    "for index, row in data.iterrows():\n",
    "    #convert male or female to a numerical value     Male=1, Female=2, Indeterminate=1.5\n",
    "    if row[\"Sex\"] == \"M\":\n",
    "        data.iloc[index, 9] = 1\n",
    "    elif row[\"Sex\"] == \"F\":\n",
    "        data.iloc[index, 9] = 2\n",
    "    else:\n",
    "        data.iloc[index, 9] = 1.5"
   ]
  },
  {
   "cell_type": "code",
   "execution_count": 3,
   "id": "03250aad",
   "metadata": {
    "execution": {
     "iopub.execute_input": "2021-12-04T15:08:21.279067Z",
     "iopub.status.busy": "2021-12-04T15:08:21.278458Z",
     "iopub.status.idle": "2021-12-04T15:08:21.333019Z",
     "shell.execute_reply": "2021-12-04T15:08:21.333505Z",
     "shell.execute_reply.started": "2021-12-04T15:07:33.356734Z"
    },
    "id": "LMzktOHnGJ6e",
    "outputId": "e8a1cccd-d854-4a66-979a-ac79c527534a",
    "papermill": {
     "duration": 0.086082,
     "end_time": "2021-12-04T15:08:21.333678",
     "exception": false,
     "start_time": "2021-12-04T15:08:21.247596",
     "status": "completed"
    },
    "tags": []
   },
   "outputs": [
    {
     "data": {
      "text/html": [
       "<div>\n",
       "<style scoped>\n",
       "    .dataframe tbody tr th:only-of-type {\n",
       "        vertical-align: middle;\n",
       "    }\n",
       "\n",
       "    .dataframe tbody tr th {\n",
       "        vertical-align: top;\n",
       "    }\n",
       "\n",
       "    .dataframe thead th {\n",
       "        text-align: right;\n",
       "    }\n",
       "</style>\n",
       "<table border=\"1\" class=\"dataframe\">\n",
       "  <thead>\n",
       "    <tr style=\"text-align: right;\">\n",
       "      <th></th>\n",
       "      <th>Sex</th>\n",
       "      <th>Length</th>\n",
       "      <th>Diameter</th>\n",
       "      <th>Height</th>\n",
       "      <th>Weight</th>\n",
       "      <th>Shucked Weight</th>\n",
       "      <th>Viscera Weight</th>\n",
       "      <th>Shell Weight</th>\n",
       "      <th>Age</th>\n",
       "    </tr>\n",
       "  </thead>\n",
       "  <tbody>\n",
       "    <tr>\n",
       "      <th>0</th>\n",
       "      <td>F</td>\n",
       "      <td>1.4375</td>\n",
       "      <td>1.1750</td>\n",
       "      <td>0.4125</td>\n",
       "      <td>24.635715</td>\n",
       "      <td>12.332033</td>\n",
       "      <td>5.584852</td>\n",
       "      <td>6.747181</td>\n",
       "      <td>9</td>\n",
       "    </tr>\n",
       "    <tr>\n",
       "      <th>1</th>\n",
       "      <td>M</td>\n",
       "      <td>0.8875</td>\n",
       "      <td>0.6500</td>\n",
       "      <td>0.2125</td>\n",
       "      <td>5.400580</td>\n",
       "      <td>2.296310</td>\n",
       "      <td>1.374951</td>\n",
       "      <td>1.559222</td>\n",
       "      <td>6</td>\n",
       "    </tr>\n",
       "    <tr>\n",
       "      <th>2</th>\n",
       "      <td>I</td>\n",
       "      <td>1.0375</td>\n",
       "      <td>0.7750</td>\n",
       "      <td>0.2500</td>\n",
       "      <td>7.952035</td>\n",
       "      <td>3.231843</td>\n",
       "      <td>1.601747</td>\n",
       "      <td>2.764076</td>\n",
       "      <td>6</td>\n",
       "    </tr>\n",
       "    <tr>\n",
       "      <th>3</th>\n",
       "      <td>F</td>\n",
       "      <td>1.1750</td>\n",
       "      <td>0.8875</td>\n",
       "      <td>0.2500</td>\n",
       "      <td>13.480187</td>\n",
       "      <td>4.748541</td>\n",
       "      <td>2.282135</td>\n",
       "      <td>5.244657</td>\n",
       "      <td>10</td>\n",
       "    </tr>\n",
       "    <tr>\n",
       "      <th>4</th>\n",
       "      <td>I</td>\n",
       "      <td>0.8875</td>\n",
       "      <td>0.6625</td>\n",
       "      <td>0.2125</td>\n",
       "      <td>6.903103</td>\n",
       "      <td>3.458639</td>\n",
       "      <td>1.488349</td>\n",
       "      <td>1.700970</td>\n",
       "      <td>6</td>\n",
       "    </tr>\n",
       "    <tr>\n",
       "      <th>...</th>\n",
       "      <td>...</td>\n",
       "      <td>...</td>\n",
       "      <td>...</td>\n",
       "      <td>...</td>\n",
       "      <td>...</td>\n",
       "      <td>...</td>\n",
       "      <td>...</td>\n",
       "      <td>...</td>\n",
       "      <td>...</td>\n",
       "    </tr>\n",
       "    <tr>\n",
       "      <th>3888</th>\n",
       "      <td>F</td>\n",
       "      <td>1.4625</td>\n",
       "      <td>1.1375</td>\n",
       "      <td>0.3250</td>\n",
       "      <td>24.819987</td>\n",
       "      <td>11.651644</td>\n",
       "      <td>5.854172</td>\n",
       "      <td>6.378637</td>\n",
       "      <td>8</td>\n",
       "    </tr>\n",
       "    <tr>\n",
       "      <th>3889</th>\n",
       "      <td>F</td>\n",
       "      <td>1.5500</td>\n",
       "      <td>1.2125</td>\n",
       "      <td>0.4375</td>\n",
       "      <td>34.458817</td>\n",
       "      <td>15.450477</td>\n",
       "      <td>7.172423</td>\n",
       "      <td>9.780577</td>\n",
       "      <td>10</td>\n",
       "    </tr>\n",
       "    <tr>\n",
       "      <th>3890</th>\n",
       "      <td>I</td>\n",
       "      <td>0.6250</td>\n",
       "      <td>0.4625</td>\n",
       "      <td>0.1625</td>\n",
       "      <td>2.012815</td>\n",
       "      <td>0.765436</td>\n",
       "      <td>0.524466</td>\n",
       "      <td>0.637864</td>\n",
       "      <td>5</td>\n",
       "    </tr>\n",
       "    <tr>\n",
       "      <th>3891</th>\n",
       "      <td>I</td>\n",
       "      <td>1.0625</td>\n",
       "      <td>0.7750</td>\n",
       "      <td>0.2625</td>\n",
       "      <td>10.347568</td>\n",
       "      <td>4.507570</td>\n",
       "      <td>2.338834</td>\n",
       "      <td>2.976698</td>\n",
       "      <td>6</td>\n",
       "    </tr>\n",
       "    <tr>\n",
       "      <th>3892</th>\n",
       "      <td>I</td>\n",
       "      <td>0.7875</td>\n",
       "      <td>0.6125</td>\n",
       "      <td>0.2125</td>\n",
       "      <td>4.068153</td>\n",
       "      <td>1.502523</td>\n",
       "      <td>1.346601</td>\n",
       "      <td>1.417475</td>\n",
       "      <td>8</td>\n",
       "    </tr>\n",
       "  </tbody>\n",
       "</table>\n",
       "<p>3893 rows × 9 columns</p>\n",
       "</div>"
      ],
      "text/plain": [
       "     Sex  Length  Diameter  Height     Weight  Shucked Weight  Viscera Weight  \\\n",
       "0      F  1.4375    1.1750  0.4125  24.635715       12.332033        5.584852   \n",
       "1      M  0.8875    0.6500  0.2125   5.400580        2.296310        1.374951   \n",
       "2      I  1.0375    0.7750  0.2500   7.952035        3.231843        1.601747   \n",
       "3      F  1.1750    0.8875  0.2500  13.480187        4.748541        2.282135   \n",
       "4      I  0.8875    0.6625  0.2125   6.903103        3.458639        1.488349   \n",
       "...   ..     ...       ...     ...        ...             ...             ...   \n",
       "3888   F  1.4625    1.1375  0.3250  24.819987       11.651644        5.854172   \n",
       "3889   F  1.5500    1.2125  0.4375  34.458817       15.450477        7.172423   \n",
       "3890   I  0.6250    0.4625  0.1625   2.012815        0.765436        0.524466   \n",
       "3891   I  1.0625    0.7750  0.2625  10.347568        4.507570        2.338834   \n",
       "3892   I  0.7875    0.6125  0.2125   4.068153        1.502523        1.346601   \n",
       "\n",
       "      Shell Weight  Age  \n",
       "0         6.747181    9  \n",
       "1         1.559222    6  \n",
       "2         2.764076    6  \n",
       "3         5.244657   10  \n",
       "4         1.700970    6  \n",
       "...            ...  ...  \n",
       "3888      6.378637    8  \n",
       "3889      9.780577   10  \n",
       "3890      0.637864    5  \n",
       "3891      2.976698    6  \n",
       "3892      1.417475    8  \n",
       "\n",
       "[3893 rows x 9 columns]"
      ]
     },
     "execution_count": 3,
     "metadata": {},
     "output_type": "execute_result"
    }
   ],
   "source": []
  },
  {
   "cell_type": "code",
   "execution_count": 4,
   "id": "15fc4310",
   "metadata": {
    "execution": {
     "iopub.execute_input": "2021-12-04T15:08:21.402789Z",
     "iopub.status.busy": "2021-12-04T15:08:21.402167Z",
     "iopub.status.idle": "2021-12-04T15:08:21.424979Z",
     "shell.execute_reply": "2021-12-04T15:08:21.425696Z",
     "shell.execute_reply.started": "2021-12-04T15:07:33.415779Z"
    },
    "id": "rLUtXXI3GWuy",
    "outputId": "53673ccc-10ea-473c-9c69-c75e3bbbd337",
    "papermill": {
     "duration": 0.059605,
     "end_time": "2021-12-04T15:08:21.425921",
     "exception": false,
     "start_time": "2021-12-04T15:08:21.366316",
     "status": "completed"
    },
    "tags": []
   },
   "outputs": [
    {
     "name": "stdout",
     "output_type": "stream",
     "text": [
      "<class 'pandas.core.frame.DataFrame'>\n",
      "RangeIndex: 3893 entries, 0 to 3892\n",
      "Data columns (total 9 columns):\n",
      " #   Column          Non-Null Count  Dtype  \n",
      "---  ------          --------------  -----  \n",
      " 0   Sex             3893 non-null   object \n",
      " 1   Length          3893 non-null   float64\n",
      " 2   Diameter        3893 non-null   float64\n",
      " 3   Height          3893 non-null   float64\n",
      " 4   Weight          3893 non-null   float64\n",
      " 5   Shucked Weight  3893 non-null   float64\n",
      " 6   Viscera Weight  3893 non-null   float64\n",
      " 7   Shell Weight    3893 non-null   float64\n",
      " 8   Age             3893 non-null   int64  \n",
      "dtypes: float64(7), int64(1), object(1)\n",
      "memory usage: 273.9+ KB\n"
     ]
    }
   ],
   "source": [
    "crab_df.info()"
   ]
  },
  {
   "cell_type": "code",
   "execution_count": 5,
   "id": "ad33ef8b",
   "metadata": {
    "execution": {
     "iopub.execute_input": "2021-12-04T15:08:21.497071Z",
     "iopub.status.busy": "2021-12-04T15:08:21.496268Z",
     "iopub.status.idle": "2021-12-04T15:08:21.528588Z",
     "shell.execute_reply": "2021-12-04T15:08:21.527967Z",
     "shell.execute_reply.started": "2021-12-04T15:07:33.443138Z"
    },
    "id": "YYLMCp3WGYn_",
    "outputId": "038558a4-1d91-4af1-fd0a-48570b1848da",
    "papermill": {
     "duration": 0.071031,
     "end_time": "2021-12-04T15:08:21.528735",
     "exception": false,
     "start_time": "2021-12-04T15:08:21.457704",
     "status": "completed"
    },
    "tags": []
   },
   "outputs": [
    {
     "data": {
      "text/html": [
       "<div>\n",
       "<style scoped>\n",
       "    .dataframe tbody tr th:only-of-type {\n",
       "        vertical-align: middle;\n",
       "    }\n",
       "\n",
       "    .dataframe tbody tr th {\n",
       "        vertical-align: top;\n",
       "    }\n",
       "\n",
       "    .dataframe thead th {\n",
       "        text-align: right;\n",
       "    }\n",
       "</style>\n",
       "<table border=\"1\" class=\"dataframe\">\n",
       "  <thead>\n",
       "    <tr style=\"text-align: right;\">\n",
       "      <th></th>\n",
       "      <th>Length</th>\n",
       "      <th>Diameter</th>\n",
       "      <th>Height</th>\n",
       "      <th>Weight</th>\n",
       "      <th>Shucked Weight</th>\n",
       "      <th>Viscera Weight</th>\n",
       "      <th>Shell Weight</th>\n",
       "      <th>Age</th>\n",
       "    </tr>\n",
       "  </thead>\n",
       "  <tbody>\n",
       "    <tr>\n",
       "      <th>count</th>\n",
       "      <td>3893.000000</td>\n",
       "      <td>3893.000000</td>\n",
       "      <td>3893.000000</td>\n",
       "      <td>3893.000000</td>\n",
       "      <td>3893.000000</td>\n",
       "      <td>3893.000000</td>\n",
       "      <td>3893.000000</td>\n",
       "      <td>3893.000000</td>\n",
       "    </tr>\n",
       "    <tr>\n",
       "      <th>mean</th>\n",
       "      <td>1.311306</td>\n",
       "      <td>1.020893</td>\n",
       "      <td>0.349374</td>\n",
       "      <td>23.567275</td>\n",
       "      <td>10.207342</td>\n",
       "      <td>5.136546</td>\n",
       "      <td>6.795844</td>\n",
       "      <td>9.954791</td>\n",
       "    </tr>\n",
       "    <tr>\n",
       "      <th>std</th>\n",
       "      <td>0.300431</td>\n",
       "      <td>0.248233</td>\n",
       "      <td>0.104976</td>\n",
       "      <td>13.891201</td>\n",
       "      <td>6.275275</td>\n",
       "      <td>3.104133</td>\n",
       "      <td>3.943392</td>\n",
       "      <td>3.220967</td>\n",
       "    </tr>\n",
       "    <tr>\n",
       "      <th>min</th>\n",
       "      <td>0.187500</td>\n",
       "      <td>0.137500</td>\n",
       "      <td>0.000000</td>\n",
       "      <td>0.056699</td>\n",
       "      <td>0.028349</td>\n",
       "      <td>0.014175</td>\n",
       "      <td>0.042524</td>\n",
       "      <td>1.000000</td>\n",
       "    </tr>\n",
       "    <tr>\n",
       "      <th>25%</th>\n",
       "      <td>1.125000</td>\n",
       "      <td>0.875000</td>\n",
       "      <td>0.287500</td>\n",
       "      <td>12.672227</td>\n",
       "      <td>5.343881</td>\n",
       "      <td>2.664853</td>\n",
       "      <td>3.713785</td>\n",
       "      <td>8.000000</td>\n",
       "    </tr>\n",
       "    <tr>\n",
       "      <th>50%</th>\n",
       "      <td>1.362500</td>\n",
       "      <td>1.062500</td>\n",
       "      <td>0.362500</td>\n",
       "      <td>22.792998</td>\n",
       "      <td>9.539607</td>\n",
       "      <td>4.861939</td>\n",
       "      <td>6.662133</td>\n",
       "      <td>10.000000</td>\n",
       "    </tr>\n",
       "    <tr>\n",
       "      <th>75%</th>\n",
       "      <td>1.537500</td>\n",
       "      <td>1.200000</td>\n",
       "      <td>0.412500</td>\n",
       "      <td>32.786197</td>\n",
       "      <td>14.273973</td>\n",
       "      <td>7.200773</td>\n",
       "      <td>9.355335</td>\n",
       "      <td>11.000000</td>\n",
       "    </tr>\n",
       "    <tr>\n",
       "      <th>max</th>\n",
       "      <td>2.037500</td>\n",
       "      <td>1.625000</td>\n",
       "      <td>2.825000</td>\n",
       "      <td>80.101512</td>\n",
       "      <td>42.184056</td>\n",
       "      <td>21.545620</td>\n",
       "      <td>28.491248</td>\n",
       "      <td>29.000000</td>\n",
       "    </tr>\n",
       "  </tbody>\n",
       "</table>\n",
       "</div>"
      ],
      "text/plain": [
       "            Length     Diameter       Height       Weight  Shucked Weight  \\\n",
       "count  3893.000000  3893.000000  3893.000000  3893.000000     3893.000000   \n",
       "mean      1.311306     1.020893     0.349374    23.567275       10.207342   \n",
       "std       0.300431     0.248233     0.104976    13.891201        6.275275   \n",
       "min       0.187500     0.137500     0.000000     0.056699        0.028349   \n",
       "25%       1.125000     0.875000     0.287500    12.672227        5.343881   \n",
       "50%       1.362500     1.062500     0.362500    22.792998        9.539607   \n",
       "75%       1.537500     1.200000     0.412500    32.786197       14.273973   \n",
       "max       2.037500     1.625000     2.825000    80.101512       42.184056   \n",
       "\n",
       "       Viscera Weight  Shell Weight          Age  \n",
       "count     3893.000000   3893.000000  3893.000000  \n",
       "mean         5.136546      6.795844     9.954791  \n",
       "std          3.104133      3.943392     3.220967  \n",
       "min          0.014175      0.042524     1.000000  \n",
       "25%          2.664853      3.713785     8.000000  \n",
       "50%          4.861939      6.662133    10.000000  \n",
       "75%          7.200773      9.355335    11.000000  \n",
       "max         21.545620     28.491248    29.000000  "
      ]
     },
     "execution_count": 5,
     "metadata": {},
     "output_type": "execute_result"
    }
   ],
   "source": [
    "crab_df.describe()"
   ]
  },
  {
   "cell_type": "markdown",
   "id": "f5c3c998",
   "metadata": {
    "id": "ftYsqsUUHgw_",
    "papermill": {
     "duration": 0.031977,
     "end_time": "2021-12-04T15:08:21.592568",
     "exception": false,
     "start_time": "2021-12-04T15:08:21.560591",
     "status": "completed"
    },
    "tags": []
   },
   "source": [
    "# Exploratory data analysis\n",
    "Let us perform the basic exploration on the dataset and figure out relationships between various columns / features with Age"
   ]
  },
  {
   "cell_type": "code",
   "execution_count": 6,
   "id": "930e31c3",
   "metadata": {
    "execution": {
     "iopub.execute_input": "2021-12-04T15:08:21.722906Z",
     "iopub.status.busy": "2021-12-04T15:08:21.722212Z",
     "iopub.status.idle": "2021-12-04T15:08:22.240135Z",
     "shell.execute_reply": "2021-12-04T15:08:22.239617Z",
     "shell.execute_reply.started": "2021-12-04T15:07:33.482342Z"
    },
    "id": "zIklpMEeHqS0",
    "outputId": "1de6c101-38f2-4d8b-c1ce-5117cbadb56c",
    "papermill": {
     "duration": 0.614408,
     "end_time": "2021-12-04T15:08:22.240299",
     "exception": false,
     "start_time": "2021-12-04T15:08:21.625891",
     "status": "completed"
    },
    "tags": []
   },
   "outputs": [
    {
     "data": {
      "text/plain": [
       "<seaborn.axisgrid.FacetGrid at 0x7fb442e80fd0>"
      ]
     },
     "execution_count": 6,
     "metadata": {},
     "output_type": "execute_result"
    },
    {
     "data": {
      "image/png": "[encoded data removed]",
      "text/plain": [
       "<Figure size 360x360 with 1 Axes>"
      ]
     },
     "metadata": {
      "needs_background": "light"
     },
     "output_type": "display_data"
    }
   ],
   "source": [
    "sns.relplot(x = \"Length\", y = \"Age\", data = crab_df)"
   ]
  },
  {
   "cell_type": "code",
   "execution_count": 7,
   "id": "6db8e77c",
   "metadata": {
    "execution": {
     "iopub.execute_input": "2021-12-04T15:08:22.312745Z",
     "iopub.status.busy": "2021-12-04T15:08:22.312020Z",
     "iopub.status.idle": "2021-12-04T15:08:22.676245Z",
     "shell.execute_reply": "2021-12-04T15:08:22.676864Z",
     "shell.execute_reply.started": "2021-12-04T15:07:33.999756Z"
    },
    "id": "9IFd3-dHIUFo",
    "outputId": "a5f74575-bd62-4aa2-e655-41308e8b8dbe",
    "papermill": {
     "duration": 0.403005,
     "end_time": "2021-12-04T15:08:22.677039",
     "exception": false,
     "start_time": "2021-12-04T15:08:22.274034",
     "status": "completed"
    },
    "tags": []
   },
   "outputs": [
    {
     "data": {
      "text/plain": [
       "<seaborn.axisgrid.FacetGrid at 0x7fb442e03b90>"
      ]
     },
     "execution_count": 7,
     "metadata": {},
     "output_type": "execute_result"
    },
    {
     "data": {
      "image/png": "[encoded data removed]",
      "text/plain": [
       "<Figure size 360x360 with 1 Axes>"
      ]
     },
     "metadata": {
      "needs_background": "light"
     },
     "output_type": "display_data"
    }
   ],
   "source": [
    "sns.relplot(x = \"Diameter\", y = \"Age\", data = crab_df)"
   ]
  },
  {
   "cell_type": "code",
   "execution_count": 8,
   "id": "4ba60b15",
   "metadata": {
    "execution": {
     "iopub.execute_input": "2021-12-04T15:08:22.759806Z",
     "iopub.status.busy": "2021-12-04T15:08:22.758732Z",
     "iopub.status.idle": "2021-12-04T15:08:23.115886Z",
     "shell.execute_reply": "2021-12-04T15:08:23.116389Z",
     "shell.execute_reply.started": "2021-12-04T15:07:34.376182Z"
    },
    "id": "avS79c1QIZnG",
    "outputId": "8f8abc7d-ac0f-4e64-cf37-bb5667fa9d30",
    "papermill": {
     "duration": 0.401621,
     "end_time": "2021-12-04T15:08:23.116606",
     "exception": false,
     "start_time": "2021-12-04T15:08:22.714985",
     "status": "completed"
    },
    "tags": []
   },
   "outputs": [
    {
     "data": {
      "text/plain": [
       "<seaborn.axisgrid.FacetGrid at 0x7fb44883c4d0>"
      ]
     },
     "execution_count": 8,
     "metadata": {},
     "output_type": "execute_result"
    },
    {
     "data": {
      "image/png": "[encoded data removed]",
      "text/plain": [
       "<Figure size 360x360 with 1 Axes>"
      ]
     },
     "metadata": {
      "needs_background": "light"
     },
     "output_type": "display_data"
    }
   ],
   "source": [
    "sns.relplot(x = \"Height\", y = \"Age\", data = crab_df)"
   ]
  },
  {
   "cell_type": "code",
   "execution_count": 9,
   "id": "31c3e59d",
   "metadata": {
    "execution": {
     "iopub.execute_input": "2021-12-04T15:08:23.192325Z",
     "iopub.status.busy": "2021-12-04T15:08:23.191697Z",
     "iopub.status.idle": "2021-12-04T15:08:23.542243Z",
     "shell.execute_reply": "2021-12-04T15:08:23.542733Z",
     "shell.execute_reply.started": "2021-12-04T15:07:34.729920Z"
    },
    "id": "c2JohQrKIcbm",
    "outputId": "153a8d3e-7a4c-4364-d7ed-70385e6296cf",
    "papermill": {
     "duration": 0.389227,
     "end_time": "2021-12-04T15:08:23.542906",
     "exception": false,
     "start_time": "2021-12-04T15:08:23.153679",
     "status": "completed"
    },
    "tags": []
   },
   "outputs": [
    {
     "data": {
      "text/plain": [
       "<seaborn.axisgrid.FacetGrid at 0x7fb43ac67510>"
      ]
     },
     "execution_count": 9,
     "metadata": {},
     "output_type": "execute_result"
    },
    {
     "data": {
      "image/png": "[encoded data removed]",
      "text/plain": [
       "<Figure size 360x360 with 1 Axes>"
      ]
     },
     "metadata": {
      "needs_background": "light"
     },
     "output_type": "display_data"
    }
   ],
   "source": [
    "sns.relplot(x = \"Weight\", y = \"Age\", data = crab_df)"
   ]
  },
  {
   "cell_type": "code",
   "execution_count": 10,
   "id": "c15fb2ef",
   "metadata": {
    "execution": {
     "iopub.execute_input": "2021-12-04T15:08:23.622794Z",
     "iopub.status.busy": "2021-12-04T15:08:23.621967Z",
     "iopub.status.idle": "2021-12-04T15:08:23.947046Z",
     "shell.execute_reply": "2021-12-04T15:08:23.946189Z",
     "shell.execute_reply.started": "2021-12-04T15:07:35.100957Z"
    },
    "id": "T4Ptyg46IhE5",
    "outputId": "fd12595e-1004-48c9-ae2e-624896cbcb6d",
    "papermill": {
     "duration": 0.364971,
     "end_time": "2021-12-04T15:08:23.947210",
     "exception": false,
     "start_time": "2021-12-04T15:08:23.582239",
     "status": "completed"
    },
    "tags": []
   },
   "outputs": [
    {
     "data": {
      "text/plain": [
       "<seaborn.axisgrid.FacetGrid at 0x7fb43abda050>"
      ]
     },
     "execution_count": 10,
     "metadata": {},
     "output_type": "execute_result"
    },
    {
     "data": {
      "image/png": "[encoded data removed]",
      "text/plain": [
       "<Figure size 360x360 with 1 Axes>"
      ]
     },
     "metadata": {
      "needs_background": "light"
     },
     "output_type": "display_data"
    }
   ],
   "source": [
    "sns.relplot(x = \"Shucked Weight\", y = \"Age\", data = crab_df)"
   ]
  },
  {
   "cell_type": "code",
   "execution_count": 11,
   "id": "5f484c47",
   "metadata": {
    "execution": {
     "iopub.execute_input": "2021-12-04T15:08:24.036584Z",
     "iopub.status.busy": "2021-12-04T15:08:24.033623Z",
     "iopub.status.idle": "2021-12-04T15:08:24.354576Z",
     "shell.execute_reply": "2021-12-04T15:08:24.354020Z",
     "shell.execute_reply.started": "2021-12-04T15:07:35.437439Z"
    },
    "id": "J1tqOSUaImVZ",
    "outputId": "259192e3-8344-47c4-8c8b-a412becb8b1a",
    "papermill": {
     "duration": 0.368211,
     "end_time": "2021-12-04T15:08:24.354753",
     "exception": false,
     "start_time": "2021-12-04T15:08:23.986542",
     "status": "completed"
    },
    "tags": []
   },
   "outputs": [
    {
     "data": {
      "text/plain": [
       "<seaborn.axisgrid.FacetGrid at 0x7fb43ab59f90>"
      ]
     },
     "execution_count": 11,
     "metadata": {},
     "output_type": "execute_result"
    },
    {
     "data": {
      "image/png": "[encoded data removed]",
      "text/plain": [
       "<Figure size 360x360 with 1 Axes>"
      ]
     },
     "metadata": {
      "needs_background": "light"
     },
     "output_type": "display_data"
    }
   ],
   "source": [
    "sns.relplot(x = \"Viscera Weight\", y = \"Age\", data = crab_df)"
   ]
  },
  {
   "cell_type": "code",
   "execution_count": 12,
   "id": "7279ad25",
   "metadata": {
    "execution": {
     "iopub.execute_input": "2021-12-04T15:08:24.437343Z",
     "iopub.status.busy": "2021-12-04T15:08:24.436670Z",
     "iopub.status.idle": "2021-12-04T15:08:24.788795Z",
     "shell.execute_reply": "2021-12-04T15:08:24.788285Z",
     "shell.execute_reply.started": "2021-12-04T15:07:35.780937Z"
    },
    "id": "XhqSyAIQIrmD",
    "outputId": "fe9d719b-d4a4-4a89-a80a-3adebf10d1bb",
    "papermill": {
     "duration": 0.395703,
     "end_time": "2021-12-04T15:08:24.788948",
     "exception": false,
     "start_time": "2021-12-04T15:08:24.393245",
     "status": "completed"
    },
    "tags": []
   },
   "outputs": [
    {
     "data": {
      "text/plain": [
       "<seaborn.axisgrid.FacetGrid at 0x7fb43aa79390>"
      ]
     },
     "execution_count": 12,
     "metadata": {},
     "output_type": "execute_result"
    },
    {
     "data": {
      "image/png": "[encoded data removed]",
      "text/plain": [
       "<Figure size 360x360 with 1 Axes>"
      ]
     },
     "metadata": {
      "needs_background": "light"
     },
     "output_type": "display_data"
    }
   ],
   "source": [
    "sns.relplot(x = \"Shell Weight\", y = \"Age\", data = crab_df)"
   ]
  },
  {
   "cell_type": "code",
   "execution_count": 13,
   "id": "301a9b0e",
   "metadata": {
    "execution": {
     "iopub.execute_input": "2021-12-04T15:08:24.888614Z",
     "iopub.status.busy": "2021-12-04T15:08:24.887914Z",
     "iopub.status.idle": "2021-12-04T15:08:25.080995Z",
     "shell.execute_reply": "2021-12-04T15:08:25.080447Z",
     "shell.execute_reply.started": "2021-12-04T15:07:36.132428Z"
    },
    "id": "V3bRhzIDI1Ke",
    "outputId": "02212162-b17f-4879-a5ed-40679f165a6c",
    "papermill": {
     "duration": 0.247587,
     "end_time": "2021-12-04T15:08:25.081179",
     "exception": false,
     "start_time": "2021-12-04T15:08:24.833592",
     "status": "completed"
    },
    "tags": []
   },
   "outputs": [
    {
     "data": {
      "text/plain": [
       "<AxesSubplot:xlabel='Sex', ylabel='count'>"
      ]
     },
     "execution_count": 13,
     "metadata": {},
     "output_type": "execute_result"
    },
    {
     "data": {
      "image/png": "[encoded data removed]",
      "text/plain": [
       "<Figure size 432x288 with 1 Axes>"
      ]
     },
     "metadata": {
      "needs_background": "light"
     },
     "output_type": "display_data"
    }
   ],
   "source": [
    "sns.countplot(x = \"Sex\", data = crab_df)"
   ]
  },
  {
   "cell_type": "code",
   "execution_count": 14,
   "id": "26c40852",
   "metadata": {
    "execution": {
     "iopub.execute_input": "2021-12-04T15:08:25.180111Z",
     "iopub.status.busy": "2021-12-04T15:08:25.175292Z",
     "iopub.status.idle": "2021-12-04T15:08:25.562046Z",
     "shell.execute_reply": "2021-12-04T15:08:25.561539Z",
     "shell.execute_reply.started": "2021-12-04T15:07:36.343216Z"
    },
    "id": "xALwDaU7JK7G",
    "outputId": "f58eb143-eb3a-47bc-e82f-7c7d15fbaede",
    "papermill": {
     "duration": 0.434626,
     "end_time": "2021-12-04T15:08:25.562212",
     "exception": false,
     "start_time": "2021-12-04T15:08:25.127586",
     "status": "completed"
    },
    "tags": []
   },
   "outputs": [
    {
     "data": {
      "text/plain": [
       "<AxesSubplot:xlabel='Age', ylabel='Count'>"
      ]
     },
     "execution_count": 14,
     "metadata": {},
     "output_type": "execute_result"
    },
    {
     "data": {
      "image/png": "[encoded data removed]",
      "text/plain": [
       "<Figure size 432x288 with 1 Axes>"
      ]
     },
     "metadata": {
      "needs_background": "light"
     },
     "output_type": "display_data"
    }
   ],
   "source": [
    "sns.histplot(data = crab_df, x = \"Age\")"
   ]
  },
  {
   "cell_type": "code",
   "execution_count": 15,
   "id": "ccb8bd24",
   "metadata": {
    "execution": {
     "iopub.execute_input": "2021-12-04T15:08:25.677988Z",
     "iopub.status.busy": "2021-12-04T15:08:25.660452Z",
     "iopub.status.idle": "2021-12-04T15:08:25.891418Z",
     "shell.execute_reply": "2021-12-04T15:08:25.891884Z",
     "shell.execute_reply.started": "2021-12-04T15:07:36.740740Z"
    },
    "id": "NBZVfEbWJqkH",
    "outputId": "e6f1034f-3122-4af4-80fb-af48b45adaae",
    "papermill": {
     "duration": 0.283508,
     "end_time": "2021-12-04T15:08:25.892302",
     "exception": false,
     "start_time": "2021-12-04T15:08:25.608794",
     "status": "completed"
    },
    "tags": []
   },
   "outputs": [
    {
     "data": {
      "image/png": "[encoded data removed]",
      "text/plain": [
       "<Figure size 432x288 with 1 Axes>"
      ]
     },
     "metadata": {
      "needs_background": "light"
     },
     "output_type": "display_data"
    }
   ],
   "source": [
    "plt.hist(crab_df[\"Age\"]);\n",
    "plt.axvline(crab_df[\"Age\"].mean(), color='k', linestyle='dashed', linewidth=2)\n",
    "plt.xlabel(\"Age of crabs\")\n",
    "plt.ylabel(\"Count of each Age\")\n",
    "\n",
    "plt.show()"
   ]
  },
  {
   "cell_type": "code",
   "execution_count": 16,
   "id": "91c28c81",
   "metadata": {
    "execution": {
     "iopub.execute_input": "2021-12-04T15:08:25.991569Z",
     "iopub.status.busy": "2021-12-04T15:08:25.990900Z",
     "iopub.status.idle": "2021-12-04T15:08:26.686077Z",
     "shell.execute_reply": "2021-12-04T15:08:26.686566Z",
     "shell.execute_reply.started": "2021-12-04T15:07:36.963409Z"
    },
    "id": "jKHRFwFpJ6Lk",
    "outputId": "653d3be9-cf3a-478f-fa8d-c295f9570c72",
    "papermill": {
     "duration": 0.747429,
     "end_time": "2021-12-04T15:08:26.686779",
     "exception": false,
     "start_time": "2021-12-04T15:08:25.939350",
     "status": "completed"
    },
    "tags": []
   },
   "outputs": [
    {
     "data": {
      "text/plain": [
       "<AxesSubplot:>"
      ]
     },
     "execution_count": 16,
     "metadata": {},
     "output_type": "execute_result"
    },
    {
     "data": {
      "image/png": "[encoded data removed]",
      "text/plain": [
       "<Figure size 1800x720 with 2 Axes>"
      ]
     },
     "metadata": {
      "needs_background": "light"
     },
     "output_type": "display_data"
    }
   ],
   "source": [
    "plt.figure(figsize = (25,10))\n",
    "sns.heatmap(crab_df.corr(), annot = True)"
   ]
  },
  {
   "cell_type": "code",
   "execution_count": 17,
   "id": "9a650aba",
   "metadata": {
    "execution": {
     "iopub.execute_input": "2021-12-04T15:08:26.778870Z",
     "iopub.status.busy": "2021-12-04T15:08:26.777930Z",
     "iopub.status.idle": "2021-12-04T15:08:27.034883Z",
     "shell.execute_reply": "2021-12-04T15:08:27.035332Z",
     "shell.execute_reply.started": "2021-12-04T15:07:37.673302Z"
    },
    "id": "7RX4NcgNKF1d",
    "outputId": "c8b22a3a-e119-493f-efa0-085f01c72ba8",
    "papermill": {
     "duration": 0.304797,
     "end_time": "2021-12-04T15:08:27.035536",
     "exception": false,
     "start_time": "2021-12-04T15:08:26.730739",
     "status": "completed"
    },
    "tags": []
   },
   "outputs": [
    {
     "data": {
      "text/plain": [
       "<AxesSubplot:xlabel='Weight'>"
      ]
     },
     "execution_count": 17,
     "metadata": {},
     "output_type": "execute_result"
    },
    {
     "data": {
      "image/png": "[encoded data removed]",
      "text/plain": [
       "<Figure size 432x288 with 1 Axes>"
      ]
     },
     "metadata": {},
     "output_type": "display_data"
    }
   ],
   "source": [
    "sns.set_style(\"darkgrid\")\n",
    "sns.boxplot(x = \"Weight\", data = crab_df)"
   ]
  },
  {
   "cell_type": "code",
   "execution_count": 18,
   "id": "d5d0dbed",
   "metadata": {
    "execution": {
     "iopub.execute_input": "2021-12-04T15:08:27.135284Z",
     "iopub.status.busy": "2021-12-04T15:08:27.134305Z",
     "iopub.status.idle": "2021-12-04T15:08:27.372597Z",
     "shell.execute_reply": "2021-12-04T15:08:27.371773Z",
     "shell.execute_reply.started": "2021-12-04T15:07:37.942893Z"
    },
    "id": "0yt6cW1tKV89",
    "outputId": "6b679903-656d-45f7-c7af-f3e558d59153",
    "papermill": {
     "duration": 0.290539,
     "end_time": "2021-12-04T15:08:27.372761",
     "exception": false,
     "start_time": "2021-12-04T15:08:27.082222",
     "status": "completed"
    },
    "tags": []
   },
   "outputs": [
    {
     "data": {
      "text/plain": [
       "<AxesSubplot:xlabel='Height'>"
      ]
     },
     "execution_count": 18,
     "metadata": {},
     "output_type": "execute_result"
    },
    {
     "data": {
      "image/png": "[encoded data removed]",
      "text/plain": [
       "<Figure size 432x288 with 1 Axes>"
      ]
     },
     "metadata": {},
     "output_type": "display_data"
    }
   ],
   "source": [
    "sns.set_style(\"darkgrid\")\n",
    "sns.boxplot(x = \"Height\", data = crab_df)"
   ]
  },
  {
   "cell_type": "markdown",
   "id": "940aaa33",
   "metadata": {
    "id": "w2a2wt6SKmfY",
    "papermill": {
     "duration": 0.048408,
     "end_time": "2021-12-04T15:08:27.472422",
     "exception": false,
     "start_time": "2021-12-04T15:08:27.424014",
     "status": "completed"
    },
    "tags": []
   },
   "source": [
    "# Preparing data for training"
   ]
  },
  {
   "cell_type": "markdown",
   "id": "c8200ffb",
   "metadata": {
    "id": "TT--un6gLTH3",
    "papermill": {
     "duration": 0.049023,
     "end_time": "2021-12-04T15:08:27.572449",
     "exception": false,
     "start_time": "2021-12-04T15:08:27.523426",
     "status": "completed"
    },
    "tags": []
   },
   "source": [
    "Listing out of all columns "
   ]
  },
  {
   "cell_type": "code",
   "execution_count": 19,
   "id": "7aea3a2a",
   "metadata": {
    "execution": {
     "iopub.execute_input": "2021-12-04T15:08:27.676898Z",
     "iopub.status.busy": "2021-12-04T15:08:27.675967Z",
     "iopub.status.idle": "2021-12-04T15:08:27.679331Z",
     "shell.execute_reply": "2021-12-04T15:08:27.679933Z",
     "shell.execute_reply.started": "2021-12-04T15:07:38.189487Z"
    },
    "id": "iiOV3oKxK9y3",
    "outputId": "a3dddd21-e915-4fb5-f192-fa68f512b8f2",
    "papermill": {
     "duration": 0.058937,
     "end_time": "2021-12-04T15:08:27.680136",
     "exception": false,
     "start_time": "2021-12-04T15:08:27.621199",
     "status": "completed"
    },
    "tags": []
   },
   "outputs": [
    {
     "data": {
      "text/plain": [
       "Index(['Sex', 'Length', 'Diameter', 'Height', 'Weight', 'Shucked Weight',\n",
       "       'Viscera Weight', 'Shell Weight', 'Age'],\n",
       "      dtype='object')"
      ]
     },
     "execution_count": 19,
     "metadata": {},
     "output_type": "execute_result"
    }
   ],
   "source": [
    "crab_df.columns"
   ]
  },
  {
   "cell_type": "markdown",
   "id": "1583e14a",
   "metadata": {
    "id": "XqOzinwfLWdD",
    "papermill": {
     "duration": 0.052815,
     "end_time": "2021-12-04T15:08:27.794275",
     "exception": false,
     "start_time": "2021-12-04T15:08:27.741460",
     "status": "completed"
    },
    "tags": []
   },
   "source": [
    "Let us encode Sex column into 0 and 1 for male and female "
   ]
  },
  {
   "cell_type": "code",
   "execution_count": 20,
   "id": "0f3949a2",
   "metadata": {
    "execution": {
     "iopub.execute_input": "2021-12-04T15:08:27.903346Z",
     "iopub.status.busy": "2021-12-04T15:08:27.902645Z",
     "iopub.status.idle": "2021-12-04T15:08:28.052094Z",
     "shell.execute_reply": "2021-12-04T15:08:28.051391Z",
     "shell.execute_reply.started": "2021-12-04T15:07:38.199046Z"
    },
    "id": "12ErLRVpLp9P",
    "papermill": {
     "duration": 0.205449,
     "end_time": "2021-12-04T15:08:28.052262",
     "exception": false,
     "start_time": "2021-12-04T15:08:27.846813",
     "status": "completed"
    },
    "tags": []
   },
   "outputs": [],
   "source": [
    "from sklearn.preprocessing import LabelEncoder\n",
    "le = LabelEncoder()\n",
    "crab_df['Gender'] = le.fit_transform(crab_df['Sex'])"
   ]
  },
  {
   "cell_type": "markdown",
   "id": "904affde",
   "metadata": {
    "id": "xDNEOBHZMHoD",
    "papermill": {
     "duration": 0.050599,
     "end_time": "2021-12-04T15:08:28.154258",
     "exception": false,
     "start_time": "2021-12-04T15:08:28.103659",
     "status": "completed"
    },
    "tags": []
   },
   "source": [
    "Since there are 3 genders, let us do one hot encoding"
   ]
  },
  {
   "cell_type": "code",
   "execution_count": 21,
   "id": "0acff482",
   "metadata": {
    "execution": {
     "iopub.execute_input": "2021-12-04T15:08:28.259675Z",
     "iopub.status.busy": "2021-12-04T15:08:28.258659Z",
     "iopub.status.idle": "2021-12-04T15:08:28.270137Z",
     "shell.execute_reply": "2021-12-04T15:08:28.270953Z",
     "shell.execute_reply.started": "2021-12-04T15:07:38.325138Z"
    },
    "id": "ipigw4RNNC3p",
    "outputId": "ed96d54e-eea2-4595-aeb1-b08cfd38e92f",
    "papermill": {
     "duration": 0.066623,
     "end_time": "2021-12-04T15:08:28.271160",
     "exception": false,
     "start_time": "2021-12-04T15:08:28.204537",
     "status": "completed"
    },
    "tags": []
   },
   "outputs": [
    {
     "name": "stdout",
     "output_type": "stream",
     "text": [
      "<class 'pandas.core.frame.DataFrame'>\n",
      "RangeIndex: 3893 entries, 0 to 3892\n",
      "Data columns (total 10 columns):\n",
      " #   Column          Non-Null Count  Dtype  \n",
      "---  ------          --------------  -----  \n",
      " 0   Sex             3893 non-null   object \n",
      " 1   Length          3893 non-null   float64\n",
      " 2   Diameter        3893 non-null   float64\n",
      " 3   Height          3893 non-null   float64\n",
      " 4   Weight          3893 non-null   float64\n",
      " 5   Shucked Weight  3893 non-null   float64\n",
      " 6   Viscera Weight  3893 non-null   float64\n",
      " 7   Shell Weight    3893 non-null   float64\n",
      " 8   Age             3893 non-null   int64  \n",
      " 9   Gender          3893 non-null   int64  \n",
      "dtypes: float64(7), int64(2), object(1)\n",
      "memory usage: 304.3+ KB\n"
     ]
    }
   ],
   "source": [
    "crab_df.info()"
   ]
  },
  {
   "cell_type": "code",
   "execution_count": 22,
   "id": "df352996",
   "metadata": {
    "execution": {
     "iopub.execute_input": "2021-12-04T15:08:28.378548Z",
     "iopub.status.busy": "2021-12-04T15:08:28.377823Z",
     "iopub.status.idle": "2021-12-04T15:08:28.387381Z",
     "shell.execute_reply": "2021-12-04T15:08:28.386818Z",
     "shell.execute_reply.started": "2021-12-04T15:07:38.340833Z"
    },
    "id": "Eb4WfXxoMKRI",
    "papermill": {
     "duration": 0.061587,
     "end_time": "2021-12-04T15:08:28.387576",
     "exception": false,
     "start_time": "2021-12-04T15:08:28.325989",
     "status": "completed"
    },
    "tags": []
   },
   "outputs": [],
   "source": [
    "from sklearn.preprocessing import OneHotEncoder\n",
    "onehot = OneHotEncoder()\n",
    "crab_sex_df = pd.DataFrame(onehot.fit_transform(crab_df[['Sex']]).toarray())\n",
    "crab_df = crab_df.join(crab_sex_df)"
   ]
  },
  {
   "cell_type": "code",
   "execution_count": 23,
   "id": "8fcfa545",
   "metadata": {
    "execution": {
     "iopub.execute_input": "2021-12-04T15:08:28.512029Z",
     "iopub.status.busy": "2021-12-04T15:08:28.510792Z",
     "iopub.status.idle": "2021-12-04T15:08:28.532663Z",
     "shell.execute_reply": "2021-12-04T15:08:28.533126Z",
     "shell.execute_reply.started": "2021-12-04T15:07:38.353625Z"
    },
    "id": "1ksWk1Z2L2Yg",
    "outputId": "4b65ccf8-56d3-43f1-b4ea-fc4b5d19a5f6",
    "papermill": {
     "duration": 0.093412,
     "end_time": "2021-12-04T15:08:28.533287",
     "exception": false,
     "start_time": "2021-12-04T15:08:28.439875",
     "status": "completed"
    },
    "tags": []
   },
   "outputs": [
    {
     "data": {
      "text/html": [
       "<div>\n",
       "<style scoped>\n",
       "    .dataframe tbody tr th:only-of-type {\n",
       "        vertical-align: middle;\n",
       "    }\n",
       "\n",
       "    .dataframe tbody tr th {\n",
       "        vertical-align: top;\n",
       "    }\n",
       "\n",
       "    .dataframe thead th {\n",
       "        text-align: right;\n",
       "    }\n",
       "</style>\n",
       "<table border=\"1\" class=\"dataframe\">\n",
       "  <thead>\n",
       "    <tr style=\"text-align: right;\">\n",
       "      <th></th>\n",
       "      <th>Sex</th>\n",
       "      <th>Length</th>\n",
       "      <th>Diameter</th>\n",
       "      <th>Height</th>\n",
       "      <th>Weight</th>\n",
       "      <th>Shucked Weight</th>\n",
       "      <th>Viscera Weight</th>\n",
       "      <th>Shell Weight</th>\n",
       "      <th>Age</th>\n",
       "      <th>Gender</th>\n",
       "      <th>0</th>\n",
       "      <th>1</th>\n",
       "      <th>2</th>\n",
       "    </tr>\n",
       "  </thead>\n",
       "  <tbody>\n",
       "    <tr>\n",
       "      <th>0</th>\n",
       "      <td>F</td>\n",
       "      <td>1.4375</td>\n",
       "      <td>1.1750</td>\n",
       "      <td>0.4125</td>\n",
       "      <td>24.635715</td>\n",
       "      <td>12.332033</td>\n",
       "      <td>5.584852</td>\n",
       "      <td>6.747181</td>\n",
       "      <td>9</td>\n",
       "      <td>0</td>\n",
       "      <td>1.0</td>\n",
       "      <td>0.0</td>\n",
       "      <td>0.0</td>\n",
       "    </tr>\n",
       "    <tr>\n",
       "      <th>1</th>\n",
       "      <td>M</td>\n",
       "      <td>0.8875</td>\n",
       "      <td>0.6500</td>\n",
       "      <td>0.2125</td>\n",
       "      <td>5.400580</td>\n",
       "      <td>2.296310</td>\n",
       "      <td>1.374951</td>\n",
       "      <td>1.559222</td>\n",
       "      <td>6</td>\n",
       "      <td>2</td>\n",
       "      <td>0.0</td>\n",
       "      <td>0.0</td>\n",
       "      <td>1.0</td>\n",
       "    </tr>\n",
       "    <tr>\n",
       "      <th>2</th>\n",
       "      <td>I</td>\n",
       "      <td>1.0375</td>\n",
       "      <td>0.7750</td>\n",
       "      <td>0.2500</td>\n",
       "      <td>7.952035</td>\n",
       "      <td>3.231843</td>\n",
       "      <td>1.601747</td>\n",
       "      <td>2.764076</td>\n",
       "      <td>6</td>\n",
       "      <td>1</td>\n",
       "      <td>0.0</td>\n",
       "      <td>1.0</td>\n",
       "      <td>0.0</td>\n",
       "    </tr>\n",
       "    <tr>\n",
       "      <th>3</th>\n",
       "      <td>F</td>\n",
       "      <td>1.1750</td>\n",
       "      <td>0.8875</td>\n",
       "      <td>0.2500</td>\n",
       "      <td>13.480187</td>\n",
       "      <td>4.748541</td>\n",
       "      <td>2.282135</td>\n",
       "      <td>5.244657</td>\n",
       "      <td>10</td>\n",
       "      <td>0</td>\n",
       "      <td>1.0</td>\n",
       "      <td>0.0</td>\n",
       "      <td>0.0</td>\n",
       "    </tr>\n",
       "    <tr>\n",
       "      <th>4</th>\n",
       "      <td>I</td>\n",
       "      <td>0.8875</td>\n",
       "      <td>0.6625</td>\n",
       "      <td>0.2125</td>\n",
       "      <td>6.903103</td>\n",
       "      <td>3.458639</td>\n",
       "      <td>1.488349</td>\n",
       "      <td>1.700970</td>\n",
       "      <td>6</td>\n",
       "      <td>1</td>\n",
       "      <td>0.0</td>\n",
       "      <td>1.0</td>\n",
       "      <td>0.0</td>\n",
       "    </tr>\n",
       "    <tr>\n",
       "      <th>...</th>\n",
       "      <td>...</td>\n",
       "      <td>...</td>\n",
       "      <td>...</td>\n",
       "      <td>...</td>\n",
       "      <td>...</td>\n",
       "      <td>...</td>\n",
       "      <td>...</td>\n",
       "      <td>...</td>\n",
       "      <td>...</td>\n",
       "      <td>...</td>\n",
       "      <td>...</td>\n",
       "      <td>...</td>\n",
       "      <td>...</td>\n",
       "    </tr>\n",
       "    <tr>\n",
       "      <th>3888</th>\n",
       "      <td>F</td>\n",
       "      <td>1.4625</td>\n",
       "      <td>1.1375</td>\n",
       "      <td>0.3250</td>\n",
       "      <td>24.819987</td>\n",
       "      <td>11.651644</td>\n",
       "      <td>5.854172</td>\n",
       "      <td>6.378637</td>\n",
       "      <td>8</td>\n",
       "      <td>0</td>\n",
       "      <td>1.0</td>\n",
       "      <td>0.0</td>\n",
       "      <td>0.0</td>\n",
       "    </tr>\n",
       "    <tr>\n",
       "      <th>3889</th>\n",
       "      <td>F</td>\n",
       "      <td>1.5500</td>\n",
       "      <td>1.2125</td>\n",
       "      <td>0.4375</td>\n",
       "      <td>34.458817</td>\n",
       "      <td>15.450477</td>\n",
       "      <td>7.172423</td>\n",
       "      <td>9.780577</td>\n",
       "      <td>10</td>\n",
       "      <td>0</td>\n",
       "      <td>1.0</td>\n",
       "      <td>0.0</td>\n",
       "      <td>0.0</td>\n",
       "    </tr>\n",
       "    <tr>\n",
       "      <th>3890</th>\n",
       "      <td>I</td>\n",
       "      <td>0.6250</td>\n",
       "      <td>0.4625</td>\n",
       "      <td>0.1625</td>\n",
       "      <td>2.012815</td>\n",
       "      <td>0.765436</td>\n",
       "      <td>0.524466</td>\n",
       "      <td>0.637864</td>\n",
       "      <td>5</td>\n",
       "      <td>1</td>\n",
       "      <td>0.0</td>\n",
       "      <td>1.0</td>\n",
       "      <td>0.0</td>\n",
       "    </tr>\n",
       "    <tr>\n",
       "      <th>3891</th>\n",
       "      <td>I</td>\n",
       "      <td>1.0625</td>\n",
       "      <td>0.7750</td>\n",
       "      <td>0.2625</td>\n",
       "      <td>10.347568</td>\n",
       "      <td>4.507570</td>\n",
       "      <td>2.338834</td>\n",
       "      <td>2.976698</td>\n",
       "      <td>6</td>\n",
       "      <td>1</td>\n",
       "      <td>0.0</td>\n",
       "      <td>1.0</td>\n",
       "      <td>0.0</td>\n",
       "    </tr>\n",
       "    <tr>\n",
       "      <th>3892</th>\n",
       "      <td>I</td>\n",
       "      <td>0.7875</td>\n",
       "      <td>0.6125</td>\n",
       "      <td>0.2125</td>\n",
       "      <td>4.068153</td>\n",
       "      <td>1.502523</td>\n",
       "      <td>1.346601</td>\n",
       "      <td>1.417475</td>\n",
       "      <td>8</td>\n",
       "      <td>1</td>\n",
       "      <td>0.0</td>\n",
       "      <td>1.0</td>\n",
       "      <td>0.0</td>\n",
       "    </tr>\n",
       "  </tbody>\n",
       "</table>\n",
       "<p>3893 rows × 13 columns</p>\n",
       "</div>"
      ],
      "text/plain": [
       "     Sex  Length  Diameter  Height     Weight  Shucked Weight  Viscera Weight  \\\n",
       "0      F  1.4375    1.1750  0.4125  24.635715       12.332033        5.584852   \n",
       "1      M  0.8875    0.6500  0.2125   5.400580        2.296310        1.374951   \n",
       "2      I  1.0375    0.7750  0.2500   7.952035        3.231843        1.601747   \n",
       "3      F  1.1750    0.8875  0.2500  13.480187        4.748541        2.282135   \n",
       "4      I  0.8875    0.6625  0.2125   6.903103        3.458639        1.488349   \n",
       "...   ..     ...       ...     ...        ...             ...             ...   \n",
       "3888   F  1.4625    1.1375  0.3250  24.819987       11.651644        5.854172   \n",
       "3889   F  1.5500    1.2125  0.4375  34.458817       15.450477        7.172423   \n",
       "3890   I  0.6250    0.4625  0.1625   2.012815        0.765436        0.524466   \n",
       "3891   I  1.0625    0.7750  0.2625  10.347568        4.507570        2.338834   \n",
       "3892   I  0.7875    0.6125  0.2125   4.068153        1.502523        1.346601   \n",
       "\n",
       "      Shell Weight  Age  Gender    0    1    2  \n",
       "0         6.747181    9       0  1.0  0.0  0.0  \n",
       "1         1.559222    6       2  0.0  0.0  1.0  \n",
       "2         2.764076    6       1  0.0  1.0  0.0  \n",
       "3         5.244657   10       0  1.0  0.0  0.0  \n",
       "4         1.700970    6       1  0.0  1.0  0.0  \n",
       "...            ...  ...     ...  ...  ...  ...  \n",
       "3888      6.378637    8       0  1.0  0.0  0.0  \n",
       "3889      9.780577   10       0  1.0  0.0  0.0  \n",
       "3890      0.637864    5       1  0.0  1.0  0.0  \n",
       "3891      2.976698    6       1  0.0  1.0  0.0  \n",
       "3892      1.417475    8       1  0.0  1.0  0.0  \n",
       "\n",
       "[3893 rows x 13 columns]"
      ]
     },
     "execution_count": 23,
     "metadata": {},
     "output_type": "execute_result"
    }
   ],
   "source": [
    "crab_df"
   ]
  },
  {
   "cell_type": "code",
   "execution_count": 24,
   "id": "bef723af",
   "metadata": {
    "execution": {
     "iopub.execute_input": "2021-12-04T15:08:28.645704Z",
     "iopub.status.busy": "2021-12-04T15:08:28.644063Z",
     "iopub.status.idle": "2021-12-04T15:08:28.646933Z",
     "shell.execute_reply": "2021-12-04T15:08:28.647357Z",
     "shell.execute_reply.started": "2021-12-04T15:07:38.386315Z"
    },
    "id": "D_iH7mViOZ8p",
    "papermill": {
     "duration": 0.060643,
     "end_time": "2021-12-04T15:08:28.647569",
     "exception": false,
     "start_time": "2021-12-04T15:08:28.586926",
     "status": "completed"
    },
    "tags": []
   },
   "outputs": [],
   "source": [
    "#Renaming columns \n",
    "#df.rename(columns={'oldName1': 'newName1', 'oldName2': 'newName2'}, inplace=True)\n",
    "crab_df.rename(columns = {0: \"Female\", 1: \"Intermediate\", 2 : \"Male\"}, inplace = True)"
   ]
  },
  {
   "cell_type": "code",
   "execution_count": 25,
   "id": "0958a15a",
   "metadata": {
    "execution": {
     "iopub.execute_input": "2021-12-04T15:08:28.764530Z",
     "iopub.status.busy": "2021-12-04T15:08:28.763784Z",
     "iopub.status.idle": "2021-12-04T15:08:28.795988Z",
     "shell.execute_reply": "2021-12-04T15:08:28.796705Z",
     "shell.execute_reply.started": "2021-12-04T15:07:38.392443Z"
    },
    "id": "dMTPGIMyO5JG",
    "outputId": "5f673b8f-1924-4d62-9cdd-0442cbf3b8e0",
    "papermill": {
     "duration": 0.095185,
     "end_time": "2021-12-04T15:08:28.796881",
     "exception": false,
     "start_time": "2021-12-04T15:08:28.701696",
     "status": "completed"
    },
    "tags": []
   },
   "outputs": [
    {
     "data": {
      "text/html": [
       "<div>\n",
       "<style scoped>\n",
       "    .dataframe tbody tr th:only-of-type {\n",
       "        vertical-align: middle;\n",
       "    }\n",
       "\n",
       "    .dataframe tbody tr th {\n",
       "        vertical-align: top;\n",
       "    }\n",
       "\n",
       "    .dataframe thead th {\n",
       "        text-align: right;\n",
       "    }\n",
       "</style>\n",
       "<table border=\"1\" class=\"dataframe\">\n",
       "  <thead>\n",
       "    <tr style=\"text-align: right;\">\n",
       "      <th></th>\n",
       "      <th>Sex</th>\n",
       "      <th>Length</th>\n",
       "      <th>Diameter</th>\n",
       "      <th>Height</th>\n",
       "      <th>Weight</th>\n",
       "      <th>Shucked Weight</th>\n",
       "      <th>Viscera Weight</th>\n",
       "      <th>Shell Weight</th>\n",
       "      <th>Age</th>\n",
       "      <th>Gender</th>\n",
       "      <th>Female</th>\n",
       "      <th>Intermediate</th>\n",
       "      <th>Male</th>\n",
       "    </tr>\n",
       "  </thead>\n",
       "  <tbody>\n",
       "    <tr>\n",
       "      <th>0</th>\n",
       "      <td>F</td>\n",
       "      <td>1.4375</td>\n",
       "      <td>1.1750</td>\n",
       "      <td>0.4125</td>\n",
       "      <td>24.635715</td>\n",
       "      <td>12.332033</td>\n",
       "      <td>5.584852</td>\n",
       "      <td>6.747181</td>\n",
       "      <td>9</td>\n",
       "      <td>0</td>\n",
       "      <td>1.0</td>\n",
       "      <td>0.0</td>\n",
       "      <td>0.0</td>\n",
       "    </tr>\n",
       "    <tr>\n",
       "      <th>1</th>\n",
       "      <td>M</td>\n",
       "      <td>0.8875</td>\n",
       "      <td>0.6500</td>\n",
       "      <td>0.2125</td>\n",
       "      <td>5.400580</td>\n",
       "      <td>2.296310</td>\n",
       "      <td>1.374951</td>\n",
       "      <td>1.559222</td>\n",
       "      <td>6</td>\n",
       "      <td>2</td>\n",
       "      <td>0.0</td>\n",
       "      <td>0.0</td>\n",
       "      <td>1.0</td>\n",
       "    </tr>\n",
       "    <tr>\n",
       "      <th>2</th>\n",
       "      <td>I</td>\n",
       "      <td>1.0375</td>\n",
       "      <td>0.7750</td>\n",
       "      <td>0.2500</td>\n",
       "      <td>7.952035</td>\n",
       "      <td>3.231843</td>\n",
       "      <td>1.601747</td>\n",
       "      <td>2.764076</td>\n",
       "      <td>6</td>\n",
       "      <td>1</td>\n",
       "      <td>0.0</td>\n",
       "      <td>1.0</td>\n",
       "      <td>0.0</td>\n",
       "    </tr>\n",
       "    <tr>\n",
       "      <th>3</th>\n",
       "      <td>F</td>\n",
       "      <td>1.1750</td>\n",
       "      <td>0.8875</td>\n",
       "      <td>0.2500</td>\n",
       "      <td>13.480187</td>\n",
       "      <td>4.748541</td>\n",
       "      <td>2.282135</td>\n",
       "      <td>5.244657</td>\n",
       "      <td>10</td>\n",
       "      <td>0</td>\n",
       "      <td>1.0</td>\n",
       "      <td>0.0</td>\n",
       "      <td>0.0</td>\n",
       "    </tr>\n",
       "    <tr>\n",
       "      <th>4</th>\n",
       "      <td>I</td>\n",
       "      <td>0.8875</td>\n",
       "      <td>0.6625</td>\n",
       "      <td>0.2125</td>\n",
       "      <td>6.903103</td>\n",
       "      <td>3.458639</td>\n",
       "      <td>1.488349</td>\n",
       "      <td>1.700970</td>\n",
       "      <td>6</td>\n",
       "      <td>1</td>\n",
       "      <td>0.0</td>\n",
       "      <td>1.0</td>\n",
       "      <td>0.0</td>\n",
       "    </tr>\n",
       "    <tr>\n",
       "      <th>...</th>\n",
       "      <td>...</td>\n",
       "      <td>...</td>\n",
       "      <td>...</td>\n",
       "      <td>...</td>\n",
       "      <td>...</td>\n",
       "      <td>...</td>\n",
       "      <td>...</td>\n",
       "      <td>...</td>\n",
       "      <td>...</td>\n",
       "      <td>...</td>\n",
       "      <td>...</td>\n",
       "      <td>...</td>\n",
       "      <td>...</td>\n",
       "    </tr>\n",
       "    <tr>\n",
       "      <th>3888</th>\n",
       "      <td>F</td>\n",
       "      <td>1.4625</td>\n",
       "      <td>1.1375</td>\n",
       "      <td>0.3250</td>\n",
       "      <td>24.819987</td>\n",
       "      <td>11.651644</td>\n",
       "      <td>5.854172</td>\n",
       "      <td>6.378637</td>\n",
       "      <td>8</td>\n",
       "      <td>0</td>\n",
       "      <td>1.0</td>\n",
       "      <td>0.0</td>\n",
       "      <td>0.0</td>\n",
       "    </tr>\n",
       "    <tr>\n",
       "      <th>3889</th>\n",
       "      <td>F</td>\n",
       "      <td>1.5500</td>\n",
       "      <td>1.2125</td>\n",
       "      <td>0.4375</td>\n",
       "      <td>34.458817</td>\n",
       "      <td>15.450477</td>\n",
       "      <td>7.172423</td>\n",
       "      <td>9.780577</td>\n",
       "      <td>10</td>\n",
       "      <td>0</td>\n",
       "      <td>1.0</td>\n",
       "      <td>0.0</td>\n",
       "      <td>0.0</td>\n",
       "    </tr>\n",
       "    <tr>\n",
       "      <th>3890</th>\n",
       "      <td>I</td>\n",
       "      <td>0.6250</td>\n",
       "      <td>0.4625</td>\n",
       "      <td>0.1625</td>\n",
       "      <td>2.012815</td>\n",
       "      <td>0.765436</td>\n",
       "      <td>0.524466</td>\n",
       "      <td>0.637864</td>\n",
       "      <td>5</td>\n",
       "      <td>1</td>\n",
       "      <td>0.0</td>\n",
       "      <td>1.0</td>\n",
       "      <td>0.0</td>\n",
       "    </tr>\n",
       "    <tr>\n",
       "      <th>3891</th>\n",
       "      <td>I</td>\n",
       "      <td>1.0625</td>\n",
       "      <td>0.7750</td>\n",
       "      <td>0.2625</td>\n",
       "      <td>10.347568</td>\n",
       "      <td>4.507570</td>\n",
       "      <td>2.338834</td>\n",
       "      <td>2.976698</td>\n",
       "      <td>6</td>\n",
       "      <td>1</td>\n",
       "      <td>0.0</td>\n",
       "      <td>1.0</td>\n",
       "      <td>0.0</td>\n",
       "    </tr>\n",
       "    <tr>\n",
       "      <th>3892</th>\n",
       "      <td>I</td>\n",
       "      <td>0.7875</td>\n",
       "      <td>0.6125</td>\n",
       "      <td>0.2125</td>\n",
       "      <td>4.068153</td>\n",
       "      <td>1.502523</td>\n",
       "      <td>1.346601</td>\n",
       "      <td>1.417475</td>\n",
       "      <td>8</td>\n",
       "      <td>1</td>\n",
       "      <td>0.0</td>\n",
       "      <td>1.0</td>\n",
       "      <td>0.0</td>\n",
       "    </tr>\n",
       "  </tbody>\n",
       "</table>\n",
       "<p>3893 rows × 13 columns</p>\n",
       "</div>"
      ],
      "text/plain": [
       "     Sex  Length  Diameter  Height     Weight  Shucked Weight  Viscera Weight  \\\n",
       "0      F  1.4375    1.1750  0.4125  24.635715       12.332033        5.584852   \n",
       "1      M  0.8875    0.6500  0.2125   5.400580        2.296310        1.374951   \n",
       "2      I  1.0375    0.7750  0.2500   7.952035        3.231843        1.601747   \n",
       "3      F  1.1750    0.8875  0.2500  13.480187        4.748541        2.282135   \n",
       "4      I  0.8875    0.6625  0.2125   6.903103        3.458639        1.488349   \n",
       "...   ..     ...       ...     ...        ...             ...             ...   \n",
       "3888   F  1.4625    1.1375  0.3250  24.819987       11.651644        5.854172   \n",
       "3889   F  1.5500    1.2125  0.4375  34.458817       15.450477        7.172423   \n",
       "3890   I  0.6250    0.4625  0.1625   2.012815        0.765436        0.524466   \n",
       "3891   I  1.0625    0.7750  0.2625  10.347568        4.507570        2.338834   \n",
       "3892   I  0.7875    0.6125  0.2125   4.068153        1.502523        1.346601   \n",
       "\n",
       "      Shell Weight  Age  Gender  Female  Intermediate  Male  \n",
       "0         6.747181    9       0     1.0           0.0   0.0  \n",
       "1         1.559222    6       2     0.0           0.0   1.0  \n",
       "2         2.764076    6       1     0.0           1.0   0.0  \n",
       "3         5.244657   10       0     1.0           0.0   0.0  \n",
       "4         1.700970    6       1     0.0           1.0   0.0  \n",
       "...            ...  ...     ...     ...           ...   ...  \n",
       "3888      6.378637    8       0     1.0           0.0   0.0  \n",
       "3889      9.780577   10       0     1.0           0.0   0.0  \n",
       "3890      0.637864    5       1     0.0           1.0   0.0  \n",
       "3891      2.976698    6       1     0.0           1.0   0.0  \n",
       "3892      1.417475    8       1     0.0           1.0   0.0  \n",
       "\n",
       "[3893 rows x 13 columns]"
      ]
     },
     "execution_count": 25,
     "metadata": {},
     "output_type": "execute_result"
    }
   ],
   "source": [
    "crab_df"
   ]
  },
  {
   "cell_type": "markdown",
   "id": "46628425",
   "metadata": {
    "id": "-46dMJixO7H2",
    "papermill": {
     "duration": 0.047482,
     "end_time": "2021-12-04T15:08:28.893465",
     "exception": false,
     "start_time": "2021-12-04T15:08:28.845983",
     "status": "completed"
    },
    "tags": []
   },
   "source": [
    "#Drop columns of no interest "
   ]
  },
  {
   "cell_type": "code",
   "execution_count": 26,
   "id": "e3f4241f",
   "metadata": {
    "execution": {
     "iopub.execute_input": "2021-12-04T15:08:28.996352Z",
     "iopub.status.busy": "2021-12-04T15:08:28.995428Z",
     "iopub.status.idle": "2021-12-04T15:08:29.002248Z",
     "shell.execute_reply": "2021-12-04T15:08:29.002837Z",
     "shell.execute_reply.started": "2021-12-04T15:07:38.428446Z"
    },
    "id": "IN2UnG-9O99L",
    "papermill": {
     "duration": 0.059297,
     "end_time": "2021-12-04T15:08:29.003015",
     "exception": false,
     "start_time": "2021-12-04T15:08:28.943718",
     "status": "completed"
    },
    "tags": []
   },
   "outputs": [],
   "source": [
    "crab_df.drop(columns = [\"Sex\", \"Gender\"], inplace = True)"
   ]
  },
  {
   "cell_type": "code",
   "execution_count": 27,
   "id": "1aa2be04",
   "metadata": {
    "execution": {
     "iopub.execute_input": "2021-12-04T15:08:29.104882Z",
     "iopub.status.busy": "2021-12-04T15:08:29.103975Z",
     "iopub.status.idle": "2021-12-04T15:08:29.110468Z",
     "shell.execute_reply": "2021-12-04T15:08:29.111053Z",
     "shell.execute_reply.started": "2021-12-04T15:07:38.441209Z"
    },
    "id": "6ZiWnCZKPkqY",
    "outputId": "66876e8d-1b18-4af3-c780-ca7f663d371c",
    "papermill": {
     "duration": 0.059321,
     "end_time": "2021-12-04T15:08:29.111222",
     "exception": false,
     "start_time": "2021-12-04T15:08:29.051901",
     "status": "completed"
    },
    "tags": []
   },
   "outputs": [
    {
     "data": {
      "text/plain": [
       "Index(['Length', 'Diameter', 'Height', 'Weight', 'Shucked Weight',\n",
       "       'Viscera Weight', 'Shell Weight', 'Age', 'Female', 'Intermediate',\n",
       "       'Male'],\n",
       "      dtype='object')"
      ]
     },
     "execution_count": 27,
     "metadata": {},
     "output_type": "execute_result"
    }
   ],
   "source": [
    "crab_df.columns"
   ]
  },
  {
   "cell_type": "code",
   "execution_count": 28,
   "id": "f94cc16a",
   "metadata": {
    "execution": {
     "iopub.execute_input": "2021-12-04T15:08:29.215553Z",
     "iopub.status.busy": "2021-12-04T15:08:29.214890Z",
     "iopub.status.idle": "2021-12-04T15:08:29.218280Z",
     "shell.execute_reply": "2021-12-04T15:08:29.218819Z",
     "shell.execute_reply.started": "2021-12-04T15:07:38.457959Z"
    },
    "id": "9rKbi2bmKdo-",
    "papermill": {
     "duration": 0.057618,
     "end_time": "2021-12-04T15:08:29.218989",
     "exception": false,
     "start_time": "2021-12-04T15:08:29.161371",
     "status": "completed"
    },
    "tags": []
   },
   "outputs": [],
   "source": [
    "X = crab_df[['Length', 'Diameter', 'Height', 'Weight', 'Shucked Weight',\n",
    "       'Viscera Weight', 'Shell Weight', 'Female', 'Intermediate',\n",
    "       'Male']]\n",
    "\n",
    "y = crab_df[\"Age\"]"
   ]
  },
  {
   "cell_type": "markdown",
   "id": "af86b5f5",
   "metadata": {
    "id": "OE0mBVO4P-qA",
    "papermill": {
     "duration": 0.048486,
     "end_time": "2021-12-04T15:08:29.317956",
     "exception": false,
     "start_time": "2021-12-04T15:08:29.269470",
     "status": "completed"
    },
    "tags": []
   },
   "source": [
    "# Splitting data "
   ]
  },
  {
   "cell_type": "code",
   "execution_count": 29,
   "id": "2e1b2a7b",
   "metadata": {
    "execution": {
     "iopub.execute_input": "2021-12-04T15:08:29.415630Z",
     "iopub.status.busy": "2021-12-04T15:08:29.415017Z",
     "iopub.status.idle": "2021-12-04T15:08:29.474041Z",
     "shell.execute_reply": "2021-12-04T15:08:29.473498Z",
     "shell.execute_reply.started": "2021-12-04T15:07:38.466645Z"
    },
    "id": "JnoONvwyQA38",
    "papermill": {
     "duration": 0.109625,
     "end_time": "2021-12-04T15:08:29.474203",
     "exception": false,
     "start_time": "2021-12-04T15:08:29.364578",
     "status": "completed"
    },
    "tags": []
   },
   "outputs": [],
   "source": [
    "from sklearn.model_selection import train_test_split\n",
    "X_train, X_test, y_train, y_test = train_test_split(X, y, test_size = 0.2, random_state = 101)"
   ]
  },
  {
   "cell_type": "code",
   "execution_count": 30,
   "id": "150360f4",
   "metadata": {
    "execution": {
     "iopub.execute_input": "2021-12-04T15:08:29.579664Z",
     "iopub.status.busy": "2021-12-04T15:08:29.578793Z",
     "iopub.status.idle": "2021-12-04T15:08:29.581856Z",
     "shell.execute_reply": "2021-12-04T15:08:29.582290Z",
     "shell.execute_reply.started": "2021-12-04T15:07:38.529292Z"
    },
    "id": "1y5GH3wgQOho",
    "outputId": "a8b9250a-4616-4c86-8cb0-7519c0415fc9",
    "papermill": {
     "duration": 0.061053,
     "end_time": "2021-12-04T15:08:29.582481",
     "exception": false,
     "start_time": "2021-12-04T15:08:29.521428",
     "status": "completed"
    },
    "tags": []
   },
   "outputs": [
    {
     "data": {
      "text/plain": [
       "(3114, 10)"
      ]
     },
     "execution_count": 30,
     "metadata": {},
     "output_type": "execute_result"
    }
   ],
   "source": [
    "X_train.shape"
   ]
  },
  {
   "cell_type": "code",
   "execution_count": 31,
   "id": "7f77d5ac",
   "metadata": {
    "execution": {
     "iopub.execute_input": "2021-12-04T15:08:29.688716Z",
     "iopub.status.busy": "2021-12-04T15:08:29.687737Z",
     "iopub.status.idle": "2021-12-04T15:08:29.691958Z",
     "shell.execute_reply": "2021-12-04T15:08:29.691457Z",
     "shell.execute_reply.started": "2021-12-04T15:07:38.536644Z"
    },
    "id": "AbfG37ifQTMl",
    "outputId": "74963807-6764-4f7b-8daa-fb37c2745e17",
    "papermill": {
     "duration": 0.058487,
     "end_time": "2021-12-04T15:08:29.692094",
     "exception": false,
     "start_time": "2021-12-04T15:08:29.633607",
     "status": "completed"
    },
    "tags": []
   },
   "outputs": [
    {
     "data": {
      "text/plain": [
       "(779, 10)"
      ]
     },
     "execution_count": 31,
     "metadata": {},
     "output_type": "execute_result"
    }
   ],
   "source": [
    "X_test.shape"
   ]
  },
  {
   "cell_type": "code",
   "execution_count": 32,
   "id": "1fb857c2",
   "metadata": {
    "execution": {
     "iopub.execute_input": "2021-12-04T15:08:29.800346Z",
     "iopub.status.busy": "2021-12-04T15:08:29.799460Z",
     "iopub.status.idle": "2021-12-04T15:08:29.803821Z",
     "shell.execute_reply": "2021-12-04T15:08:29.804251Z",
     "shell.execute_reply.started": "2021-12-04T15:07:38.551230Z"
    },
    "id": "jun9Z6xTQV9u",
    "outputId": "43d6d3f5-d39c-43b9-9fb8-6824730a802d",
    "papermill": {
     "duration": 0.06136,
     "end_time": "2021-12-04T15:08:29.804440",
     "exception": false,
     "start_time": "2021-12-04T15:08:29.743080",
     "status": "completed"
    },
    "tags": []
   },
   "outputs": [
    {
     "data": {
      "text/plain": [
       "(3114,)"
      ]
     },
     "execution_count": 32,
     "metadata": {},
     "output_type": "execute_result"
    }
   ],
   "source": [
    "y_train.shape"
   ]
  },
  {
   "cell_type": "code",
   "execution_count": 33,
   "id": "3cdfcca7",
   "metadata": {
    "execution": {
     "iopub.execute_input": "2021-12-04T15:08:29.911624Z",
     "iopub.status.busy": "2021-12-04T15:08:29.910830Z",
     "iopub.status.idle": "2021-12-04T15:08:29.914667Z",
     "shell.execute_reply": "2021-12-04T15:08:29.914039Z",
     "shell.execute_reply.started": "2021-12-04T15:07:38.560841Z"
    },
    "id": "fdLSh4skQYlE",
    "outputId": "358f0436-3df3-4655-d52e-7569b72c726b",
    "papermill": {
     "duration": 0.057466,
     "end_time": "2021-12-04T15:08:29.914808",
     "exception": false,
     "start_time": "2021-12-04T15:08:29.857342",
     "status": "completed"
    },
    "tags": []
   },
   "outputs": [
    {
     "data": {
      "text/plain": [
       "(779,)"
      ]
     },
     "execution_count": 33,
     "metadata": {},
     "output_type": "execute_result"
    }
   ],
   "source": [
    "y_test.shape"
   ]
  },
  {
   "cell_type": "markdown",
   "id": "41e4bc5a",
   "metadata": {
    "id": "-7Y4hD0nQbmP",
    "papermill": {
     "duration": 0.047315,
     "end_time": "2021-12-04T15:08:30.010550",
     "exception": false,
     "start_time": "2021-12-04T15:08:29.963235",
     "status": "completed"
    },
    "tags": []
   },
   "source": [
    "# Training model"
   ]
  },
  {
   "cell_type": "code",
   "execution_count": 34,
   "id": "3c50bc30",
   "metadata": {
    "execution": {
     "iopub.execute_input": "2021-12-04T15:08:30.115114Z",
     "iopub.status.busy": "2021-12-04T15:08:30.114155Z",
     "iopub.status.idle": "2021-12-04T15:08:30.202693Z",
     "shell.execute_reply": "2021-12-04T15:08:30.203596Z",
     "shell.execute_reply.started": "2021-12-04T15:07:38.576751Z"
    },
    "id": "Hn4ACUIDQehv",
    "outputId": "7f4fb392-5858-4ef8-da13-75e2f3fa6ba5",
    "papermill": {
     "duration": 0.142985,
     "end_time": "2021-12-04T15:08:30.203867",
     "exception": false,
     "start_time": "2021-12-04T15:08:30.060882",
     "status": "completed"
    },
    "tags": []
   },
   "outputs": [
    {
     "data": {
      "text/plain": [
       "LinearRegression()"
      ]
     },
     "execution_count": 34,
     "metadata": {},
     "output_type": "execute_result"
    }
   ],
   "source": [
    "from sklearn.linear_model import LinearRegression\n",
    "lm = LinearRegression()\n",
    "lm.fit(X_train, y_train)"
   ]
  },
  {
   "cell_type": "markdown",
   "id": "f86ca237",
   "metadata": {
    "id": "a3Mf7P-qQprt",
    "papermill": {
     "duration": 0.06696,
     "end_time": "2021-12-04T15:08:30.370236",
     "exception": false,
     "start_time": "2021-12-04T15:08:30.303276",
     "status": "completed"
    },
    "tags": []
   },
   "source": [
    "# Model Evaluation"
   ]
  },
  {
   "cell_type": "code",
   "execution_count": 35,
   "id": "f06a10c5",
   "metadata": {
    "execution": {
     "iopub.execute_input": "2021-12-04T15:08:30.474945Z",
     "iopub.status.busy": "2021-12-04T15:08:30.474294Z",
     "iopub.status.idle": "2021-12-04T15:08:30.477154Z",
     "shell.execute_reply": "2021-12-04T15:08:30.476592Z",
     "shell.execute_reply.started": "2021-12-04T15:07:38.804307Z"
    },
    "id": "x_da4s3aQu5D",
    "outputId": "c276c698-3684-4157-8c34-b58a75d15559",
    "papermill": {
     "duration": 0.057425,
     "end_time": "2021-12-04T15:08:30.477288",
     "exception": false,
     "start_time": "2021-12-04T15:08:30.419863",
     "status": "completed"
    },
    "tags": []
   },
   "outputs": [
    {
     "data": {
      "text/plain": [
       "3.802308741168356"
      ]
     },
     "execution_count": 35,
     "metadata": {},
     "output_type": "execute_result"
    }
   ],
   "source": [
    "lm.intercept_"
   ]
  },
  {
   "cell_type": "code",
   "execution_count": 36,
   "id": "95bbbe72",
   "metadata": {
    "execution": {
     "iopub.execute_input": "2021-12-04T15:08:30.585304Z",
     "iopub.status.busy": "2021-12-04T15:08:30.584654Z",
     "iopub.status.idle": "2021-12-04T15:08:30.595199Z",
     "shell.execute_reply": "2021-12-04T15:08:30.595948Z",
     "shell.execute_reply.started": "2021-12-04T15:07:38.816267Z"
    },
    "id": "vACXZ7x3Q3b9",
    "outputId": "0a318981-1b92-4784-ffa5-45e37d628de9",
    "papermill": {
     "duration": 0.066099,
     "end_time": "2021-12-04T15:08:30.596169",
     "exception": false,
     "start_time": "2021-12-04T15:08:30.530070",
     "status": "completed"
    },
    "tags": []
   },
   "outputs": [
    {
     "data": {
      "text/html": [
       "<div>\n",
       "<style scoped>\n",
       "    .dataframe tbody tr th:only-of-type {\n",
       "        vertical-align: middle;\n",
       "    }\n",
       "\n",
       "    .dataframe tbody tr th {\n",
       "        vertical-align: top;\n",
       "    }\n",
       "\n",
       "    .dataframe thead th {\n",
       "        text-align: right;\n",
       "    }\n",
       "</style>\n",
       "<table border=\"1\" class=\"dataframe\">\n",
       "  <thead>\n",
       "    <tr style=\"text-align: right;\">\n",
       "      <th></th>\n",
       "      <th>Coefficient</th>\n",
       "    </tr>\n",
       "  </thead>\n",
       "  <tbody>\n",
       "    <tr>\n",
       "      <th>Length</th>\n",
       "      <td>-0.622133</td>\n",
       "    </tr>\n",
       "    <tr>\n",
       "      <th>Diameter</th>\n",
       "      <td>4.961933</td>\n",
       "    </tr>\n",
       "    <tr>\n",
       "      <th>Height</th>\n",
       "      <td>3.779713</td>\n",
       "    </tr>\n",
       "    <tr>\n",
       "      <th>Weight</th>\n",
       "      <td>0.357442</td>\n",
       "    </tr>\n",
       "    <tr>\n",
       "      <th>Shucked Weight</th>\n",
       "      <td>-0.726636</td>\n",
       "    </tr>\n",
       "    <tr>\n",
       "      <th>Viscera Weight</th>\n",
       "      <td>-0.442120</td>\n",
       "    </tr>\n",
       "    <tr>\n",
       "      <th>Shell Weight</th>\n",
       "      <td>0.271032</td>\n",
       "    </tr>\n",
       "    <tr>\n",
       "      <th>Female</th>\n",
       "      <td>0.243472</td>\n",
       "    </tr>\n",
       "    <tr>\n",
       "      <th>Intermediate</th>\n",
       "      <td>-0.548904</td>\n",
       "    </tr>\n",
       "    <tr>\n",
       "      <th>Male</th>\n",
       "      <td>0.305433</td>\n",
       "    </tr>\n",
       "  </tbody>\n",
       "</table>\n",
       "</div>"
      ],
      "text/plain": [
       "                Coefficient\n",
       "Length            -0.622133\n",
       "Diameter           4.961933\n",
       "Height             3.779713\n",
       "Weight             0.357442\n",
       "Shucked Weight    -0.726636\n",
       "Viscera Weight    -0.442120\n",
       "Shell Weight       0.271032\n",
       "Female             0.243472\n",
       "Intermediate      -0.548904\n",
       "Male               0.305433"
      ]
     },
     "execution_count": 36,
     "metadata": {},
     "output_type": "execute_result"
    }
   ],
   "source": [
    "coeff_df = pd.DataFrame(lm.coef_,X.columns,columns = ['Coefficient'])\n",
    "coeff_df"
   ]
  },
  {
   "cell_type": "markdown",
   "id": "4c8dd29b",
   "metadata": {
    "id": "sc50J8pHQ-FL",
    "papermill": {
     "duration": 0.062299,
     "end_time": "2021-12-04T15:08:30.713065",
     "exception": false,
     "start_time": "2021-12-04T15:08:30.650766",
     "status": "completed"
    },
    "tags": []
   },
   "source": [
    "# Making predictions using test data"
   ]
  },
  {
   "cell_type": "code",
   "execution_count": 37,
   "id": "46d78b05",
   "metadata": {
    "execution": {
     "iopub.execute_input": "2021-12-04T15:08:30.844196Z",
     "iopub.status.busy": "2021-12-04T15:08:30.843635Z",
     "iopub.status.idle": "2021-12-04T15:08:30.848697Z",
     "shell.execute_reply": "2021-12-04T15:08:30.849203Z",
     "shell.execute_reply.started": "2021-12-04T15:07:38.836055Z"
    },
    "id": "jtdXqyAyRAIy",
    "papermill": {
     "duration": 0.068166,
     "end_time": "2021-12-04T15:08:30.849473",
     "exception": false,
     "start_time": "2021-12-04T15:08:30.781307",
     "status": "completed"
    },
    "tags": []
   },
   "outputs": [],
   "source": [
    "predictions = lm.predict(X_test)"
   ]
  },
  {
   "cell_type": "markdown",
   "id": "33cc3aa1",
   "metadata": {
    "id": "2kcESlnqRIxu",
    "papermill": {
     "duration": 0.048776,
     "end_time": "2021-12-04T15:08:30.949204",
     "exception": false,
     "start_time": "2021-12-04T15:08:30.900428",
     "status": "completed"
    },
    "tags": []
   },
   "source": [
    "# Model metrics"
   ]
  },
  {
   "cell_type": "code",
   "execution_count": 38,
   "id": "fa2acd79",
   "metadata": {
    "execution": {
     "iopub.execute_input": "2021-12-04T15:08:31.057178Z",
     "iopub.status.busy": "2021-12-04T15:08:31.056329Z",
     "iopub.status.idle": "2021-12-04T15:08:31.062871Z",
     "shell.execute_reply": "2021-12-04T15:08:31.063675Z",
     "shell.execute_reply.started": "2021-12-04T15:07:38.847178Z"
    },
    "id": "1Zz_LvX7RKVY",
    "outputId": "8443fb0b-fc4d-436d-fcfe-cef322b533cc",
    "papermill": {
     "duration": 0.064155,
     "end_time": "2021-12-04T15:08:31.063928",
     "exception": false,
     "start_time": "2021-12-04T15:08:30.999773",
     "status": "completed"
    },
    "tags": []
   },
   "outputs": [
    {
     "name": "stdout",
     "output_type": "stream",
     "text": [
      "MEA 1.5842563254741837\n"
     ]
    }
   ],
   "source": [
    "from sklearn import metrics\n",
    "print(\"MEA\", metrics.mean_absolute_error(y_test, predictions))"
   ]
  },
  {
   "cell_type": "code",
   "execution_count": 39,
   "id": "08665d58",
   "metadata": {
    "execution": {
     "iopub.execute_input": "2021-12-04T15:08:31.169103Z",
     "iopub.status.busy": "2021-12-04T15:08:31.168297Z",
     "iopub.status.idle": "2021-12-04T15:08:31.173172Z",
     "shell.execute_reply": "2021-12-04T15:08:31.173903Z",
     "shell.execute_reply.started": "2021-12-04T15:07:38.857797Z"
    },
    "id": "xElvxPhqRYjQ",
    "outputId": "2463a449-38b8-4179-d01d-d12b89a71bdc",
    "papermill": {
     "duration": 0.058564,
     "end_time": "2021-12-04T15:08:31.174132",
     "exception": false,
     "start_time": "2021-12-04T15:08:31.115568",
     "status": "completed"
    },
    "tags": []
   },
   "outputs": [
    {
     "name": "stdout",
     "output_type": "stream",
     "text": [
      "MSE 4.859145605789453\n"
     ]
    }
   ],
   "source": [
    "print(\"MSE\", metrics.mean_squared_error(y_test, predictions))"
   ]
  },
  {
   "cell_type": "code",
   "execution_count": 40,
   "id": "642f7091",
   "metadata": {
    "execution": {
     "iopub.execute_input": "2021-12-04T15:08:31.283904Z",
     "iopub.status.busy": "2021-12-04T15:08:31.283225Z",
     "iopub.status.idle": "2021-12-04T15:08:31.289574Z",
     "shell.execute_reply": "2021-12-04T15:08:31.288477Z",
     "shell.execute_reply.started": "2021-12-04T15:07:38.871358Z"
    },
    "id": "syfLI-ryRjS3",
    "outputId": "09daf93a-6597-4abe-fe24-d091cf0727d4",
    "papermill": {
     "duration": 0.060474,
     "end_time": "2021-12-04T15:08:31.289798",
     "exception": false,
     "start_time": "2021-12-04T15:08:31.229324",
     "status": "completed"
    },
    "tags": []
   },
   "outputs": [
    {
     "name": "stdout",
     "output_type": "stream",
     "text": [
      "RMSE 2.204346979445263\n"
     ]
    }
   ],
   "source": [
    "print(\"RMSE\", np.sqrt(metrics.mean_squared_error(y_test, predictions)))"
   ]
  }
 ],
 "metadata": {
  "kernelspec": {
   "display_name": "Python 3",
   "language": "python",
   "name": "python3"
  },
  "language_info": {
   "codemirror_mode": {
    "name": "ipython",
    "version": 3
   },
   "file_extension": ".py",
   "mimetype": "text/x-python",
   "name": "python",
   "nbconvert_exporter": "python",
   "pygments_lexer": "ipython3",
   "version": "3.8.2"
  },
  "papermill": {
   "default_parameters": {},
   "duration": 21.484902,
   "end_time": "2021-12-04T15:08:32.152459",
   "environment_variables": {},
   "exception": null,
   "input_path": "__notebook__.ipynb",
   "output_path": "__notebook__.ipynb",
   "parameters": {},
   "start_time": "2021-12-04T15:08:10.667557",
   "version": "2.3.3"
  }
 },
 "nbformat": 4,
 "nbformat_minor": 5
}
