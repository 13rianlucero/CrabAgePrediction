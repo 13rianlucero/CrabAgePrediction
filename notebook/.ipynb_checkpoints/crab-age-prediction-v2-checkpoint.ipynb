{
 "cells": [
  {
   "cell_type": "markdown",
   "id": "d446116d",
   "metadata": {},
   "source": [
    "# CrabAgePrediction\n",
    "___\n",
    "\n",
    "<p align=\"left\">\n",
    "    <span class=\"image left\">\n",
    "        <img src=\"https://img.shields.io/badge/Kaggle-035a7d?style=for-the-badge&logo=kaggle&logoColor=white\" alt=\"\"/>\n",
    "        <img src=\"https://img.shields.io/badge/python-3670A0?style=for-the-badge&logo=python&logoColor=ffdd54\" alt=\"\" />\n",
    "        <img src=\"https://img.shields.io/badge/jupyter-%23FA0F00.svg?style=for-the-badge&logo=jupyter&logoColor=white\" alt=\"\" />\n",
    "        <img src=\"https://img.shields.io/badge/pycharm-143?style=for-the-badge&logo=pycharm&logoColor=black&color=black&labelColor=green\" alt=\"\" />\n",
    "    </span>\n",
    "</p>\n",
    "\n",
    "\n",
    "<div align=\"center\" class=\"inner\">\n",
    "        <span>\n",
    "            <img src=\"https://i.pinimg.com/originals/09/c6/29/09c62903beeba336dc9da76eb5c9a107.gif\" height=100px alt=\"html\" style=\"vertical-align:top;margin:3px\" />\n",
    "            <img src=\"https://i.pinimg.com/originals/94/24/c4/9424c4c89a3a37536d05df7cf7d48e25.gif\" height=100px alt=\"html\" style=\"vertical-align:top;margin:3px\" />\n",
    "            <img src=\"https://i.pinimg.com/originals/08/07/18/080718c3c5f3a56249a2ee3a825221bd.gif\" height=100px alt=\"html\" style=\"vertical-align:top;margin:3px\" />\n",
    "            <img src=\"https://i.pinimg.com/originals/32/44/01/324401aa18cc80c55f338dcd4674cb80.gif\" height=100px alt=\"html\" style=\"vertical-align:top;margin:3px\" />\n",
    "            <!-- <img src=\"https://i.pinimg.com/originals/84/da/da/84dada0a5dcfd790700df3dd87897aef.gif\" height=100px alt=\"html\" style=\"vertical-align:top;margin:3px\"> -->\n",
    "            <img src=\"https://i.pinimg.com/originals/35/f5/91/35f5911b6761ecd292e0ee9b8596b69f.gif\" height=100px alt=\"html\" style=\"vertical-align:top;margin:3px\" />\n",
    "            <img src=\"https://i.pinimg.com/originals/53/ad/92/53ad929213f59c7392bf92605868021f.gif\" height=100px alt=\"html\" style=\"vertical-align:top;margin:3px\" />\n",
    "        </span>\n",
    "    </div>\n",
    "\n",
    "\n",
    "\n",
    "## Project Information:\n",
    "___\n",
    "\n",
    "\n",
    "**CLASS:**  `CPSC-483 Machine Learning Section-02`\n",
    "\n",
    "**LAST UPDATE:**  `May 5, 2022`\n",
    "\n",
    "**PROJECT NAME:** `Crab Age Prediction`\n",
    "\n",
    "**PROJECT GROUP:**\n",
    "\n",
    "| Name         | Email                          | Student       |\n",
    "| ------------ | ------------------------------ | ------------- |\n",
    "| Brian Lucero | 13rianlucero@csu.fullerton.edu | Undergraduate |\n",
    "| Justin Heng  | justinheng@csu.fullerton.edu   | Graduate      |\n",
    "\n",
    "**PROJECT PAPER:** [Here](https://github.com/13rianlucero/CrabAgePrediction/blob/main/FirstDraft/Crab%20Age%20Prediction%20Paper.pdf)\n",
    "\n",
    "**PROJECT GITHUB REPOSITORY:** [Here](https://github.com/13rianlucero/CrabAgePrediction)\n",
    "\n",
    "\n",
    "\n",
    "# Overview\n",
    "\n",
    "___\n",
    ">\n",
    "> ## __**1. Abstract**__\n",
    "> \n",
    ">\n",
    "> #### __**Paper Summary [✔️]**__\n",
    ">\n",
    "> Machine learning can be used to predict the age of crabs. It can be more accurate than simply weighing a crab to estimate its age. Several different models can be used, though support vector regression was found to be the most accurate in this experiment.\n",
    ">\n",
    "> <br />\n",
    ">\n",
    ">\n",
    ">> ___\n",
    ">> \n",
    ">> ## __**2. Introduction**__\n",
    ">> \n",
    ">> \n",
    ">>\n",
    ">> | __**The Problem  [✔️]**__                                                                                                                                                                                                                     | __**Why it's important?  [✔️]**__                                                                                                                                                                 | __**Our Solution Strategy  [✔️]**__                                                                                                                                                                                                  |\n",
    ">> | :------------------------------------------------------------------------------------------------------------------------------------------------------------------------------------------------------------------------------------ | :---------------------------------------------------------------------------------------------------------------------------------------------------------------------------------------- | :--------------------------------------------------------------------------------------------------------------------------------------------------------------------------------------------------------------------------- |\n",
    ">> | <br /><br />*It is quite difficult to determine a crab's age due to their molting cycles which happen throughout their whole life. Essentially, the failure to harvest at an ideal age, increases cost and crab lives go to waste.* | <br /><br />*Beyond a certain age, there is negligible growth in crab's physical characteristics and hence, it is important to time the harvesting to reduce cost and increase profit.* | <br /><br />Prepare crab data and use it to train several machine learning models. Thus, given certain physcial chraracteristics and the corresponding values, the ML models will accurately determine the age of the crabs. |\n",
    ">> <br /><br />\n",
    ">>\n",
    ">>> ___\n",
    ">>>\n",
    ">>> ## __**3. Background**__\n",
    ">>> \n",
    ">>>\n",
    ">>> #### __**Process Activities [✔️]**__\n",
    ">>>\n",
    ">>> - Feature Selection & Representation\n",
    ">>> - Evaluation on variety of methods\n",
    ">>> - Method Selection\n",
    ">>> - Parameter Tuning\n",
    ">>> - Classifier Evaluation\n",
    ">>> - Train-Test Split\n",
    ">>> - Cross Validation\n",
    ">>> - Eliminating Data\n",
    ">>> - Handle Categorical Data\n",
    ">>> - One-hot encoding\n",
    ">>> - Data Partitioning\n",
    ">>> - Feature Scaling\n",
    ">>> - Feature Selection\n",
    ">>> - Choose ML Models\n",
    ">>>\n",
    ">>> #### __**Models [✔️]**__\n",
    ">>>\n",
    ">>> - K-Nearest Neighbours (KNN)\n",
    ">>> - Multiple Linear Regression (MLR)\n",
    ">>> - Support Vector Machine (SVM)\n",
    ">>>\n",
    ">>> #### __**Analysis [✔️]**__\n",
    ">>>\n",
    ">>> - Evaluate Results\n",
    ">>> - Performance Metrics\n",
    ">>> - Compare ML Models using Metrics\n",
    ">>>\n",
    ">>> <br /><br />\n",
    ">>>\n",
    ">>>> ___\n",
    ">>>>\n",
    ">>>> ## **4. Methods**\n",
    ">>>> \n",
    ">>>>\n",
    ">>>>\n",
    ">>>> #### __**Approach [✔️]**__\n",
    ">>>>\n",
    ">>>> - Prediction System using 3 main ML Models\n",
    ">>>>\n",
    ">>>> #### __**Key Contributions [✔️]**__\n",
    ">>>>\n",
    ">>>> - Justin\n",
    ">>>>   - `KNN`\n",
    ">>>>   - `SVM`\n",
    ">>>> - Brian\n",
    ">>>>   - `MLR`\n",
    ">>>> \n",
    ">>>> <br />\n",
    ">>>> \n",
    ">>>>> ___\n",
    ">>>>> \n",
    ">>>>> ## **5. Experiments**\n",
    ">>>>> \n",
    ">>>>>\n",
    ">>>>> #### __**Prediction System Development Workflow [✔️]**__\n",
    ">>>>>\n",
    ">>>>> <span class=\"image\"><img src=\"https://raw.githubusercontent.com/13rianlucero/CrabAgePrediction/main/image/README/1651798210121.png\" alt=\"\" /></span>\n",
    ">>>>>\n",
    ">>>>> #### __**Predicition Model Workflow [✔️]**__\n",
    ">>>>>\n",
    ">>>>> | KNN                                                                                                             | MLR                                                                                                             | SVM                                                                                                             |\n",
    ">>>>> | --------------------------------------------------------------------------------------------------------------- | --------------------------------------------------------------------------------------------------------------- | --------------------------------------------------------------------------------------------------------------- |\n",
    ">>>>> | Import Libraries                                                                                                | Import Libraries                                                                                                | Import Libraries                                                                                                |\n",
    ">>>>> | Import Dataset, create dataframe                                                                                | Import Dataset, create dataframe                                                                                | Import Dataset, create dataframe                                                                                |\n",
    ">>>>> | Data Preprocessing                                                                                              | Data Preprocessing                                                                                              | Data Preprocessing                                                                                              |\n",
    ">>>>> | Check for Missing data, Bad Data, Outliers, Data Types, Choose Classifier, Data Organization, Data Scaling, etc | Check for Missing data, Bad Data, Outliers, Data Types, Choose Classifier, Data Organization, Data Scaling, etc | Check for Missing data, Bad Data, Outliers, Data Types, Choose Classifier, Data Organization, Data Scaling, etc |\n",
    ">>>>> | Feature Selection                                                                                               | Feature Selection                                                                                               | Feature Selection                                                                                               |\n",
    ">>>>> | Train-Test Split                                                                                                | Train-Test Split                                                                                                | Train-Test Split                                                                                                |\n",
    ">>>>> | Build Algorithm                                                                                                 | Build Algorithm                                                                                                 | Build Algorithm                                                                                                 |\n",
    ">>>>> | Train Algorithm                                                                                                 | Train Algorithm                                                                                                 | Train Algorithm                                                                                                 |\n",
    ">>>>> | Test Algorithm                                                                                                  | Test Algorithm                                                                                                  | Test Algorithm                                                                                                  |\n",
    ">>>>> | Produce Performance Metrics from Tests                                                                          | Produce Performance Metrics from Tests                                                                          | Produce Performance Metrics from Tests                                                                          |\n",
    ">>>>> | Evaluate Results                                                                                                | Evaluate Results                                                                                                | Evaluate Results                                                                                                |\n",
    ">>>>> | Tune Algorithm                                                                                                  | Tune Algorithm                                                                                                  | Tune Algorithm                                                                                                  |\n",
    ">>>>> | Retest & Re-Analayze                                                                                            | Retest & Re-Analayze                                                                                            | Retest & Re-Analayze                                                                                            |\n",
    ">>>>> | Predicition Model defined from new train-test-analyze cycle                                                     | Predicition Model defined from new train-test-analyze cycle                                                     | Predicition Model defined from new train-test-analyze cycle                                                     |\n",
    ">>>>> | Use model to refine the results                                                                                 | Use model to refine the results                                                                                 | Use model to refine the results                                                                                 |\n",
    ">>>>> | Draw Conclusions                                                                                                | Draw Conclusions                                                                                                | Draw Conclusions                                                                                                |\n",
    ">>>>>\n",
    ">>>>> ### __**Code [✔️]**__ \n",
    ">>>>> ***SHOWN DOWN BELOW IN CODE CELL***\n",
    ">>>>>\n",
    ">>>>> <br />\n",
    ">>>>> \n",
    ">>>>>> ___\n",
    ">>>>>>\n",
    ">>>>>> ## __**6. Conclusion**__\n",
    ">>>>>>\n",
    ">>>>>> #### __***Summary of Results [✔️]***__\n",
    ">>>>>>\n",
    ">>>>>> - Overall, the models were able to predict the age of crabs reasonably well. On average, the predictions were off by about 1.5 months. Although support vector regression performed slightly better than the other two models, it was still close enough that any of the models could be used with satisfactory results.\n",
    ">>>>>>\n",
    ">>>>>> - Multiple linear regression was found to be slightly better at predicting older crabs while support vector regression was better at predicting younger crabs. K-nearest neighbor was average overall. What is important to note is that the predictions for all three models were more accurate when the age of the crab was less than 12 months. This makes sense because after a crab reaches full maturity around 12 months, its growth comes to a halt and it is harder to predict its age since its features stay roughly the same.\n",
    ">>>>>>\n",
    ">>>>>> - Therefore, predicting the age of a crab becomes less accurate the longer a crab has matured. To circumvent this, the dataset could be further preprocessed so that any crab over the age of 12 months will be set to 12 months.\n",
    ">>>>>>\n",
    ">>>>>> - This would greatly increase the accuracy of the machine learning models though the models would no longer be able to predict any ages over 12 months. Since the purpose is to find which crabs are harvestable, this may be a good compromise.\n",
    ">>>>>>\n",
    ">>>>>> | **Model**                         | **Type** | **Error (months)** |\n",
    ">>>>>> | :-------------------------------- | :------- | :----------------- |\n",
    ">>>>>> | Linear Regression (Weight vs Age) | Baseline | 1.939              |\n",
    ">>>>>> | K-nearest Neighbor                | ML       | 1.610              |\n",
    ">>>>>> | Multiple Linear Regression        | ML       | 1.560              |\n",
    ">>>>>>\n",
    ">>>>>> #### __**Future work**__ ✔️\n",
    ">>>>>>\n",
    ">>>>>> Predicting the age of a crab becomes less accurate the longer a crab has matured. To circumvent this, the dataset could be further preprocessed so that any crab over the age of 12 months will be set to 12 months.\n",
    ">>>>>>\n",
    ">>>>>> This would greatly increase the accuracy of the machine learning models though the models would no longer be able to predict any ages over 12 months. Since the purpose is to find which crabs are harvestable, this may be a good compromise.\n",
    ">>>>>>\n",
    ">>>>>> <br />\n",
    ">>>>>>\n",
    ">>>>>>> ___\n",
    ">>>>>>>\n",
    ">>>>>>> ## __**7. References**__\n",
    ">>>>>>>\n",
    ">>>>>>> <p align=\"center\">\n",
    ">>>>>>>    <img src=\"https://img.shields.io/badge/Kaggle-035a7d?style=for-the-badge&logo=kaggle&logoColor=white\" alt=\"\"/>\n",
    ">>>>>>> <img src=\"https://img.shields.io/badge/python-3670A0?style=for-the-badge&logo=python&logoColor=ffdd54\" alt=\"\" />\n",
    ">>>>>>> <img src=\"https://img.shields.io/badge/jupyter-%23FA0F00.svg?style=for-the-badge&logo=jupyter&logoColor=white\" alt=\"\" />\n",
    ">>>>>>> <img src=\"https://img.shields.io/badge/pycharm-143?style=for-the-badge&logo=pycharm&logoColor=black&color=black&labelColor=green\" alt=\"\" />\n",
    ">>>>>>> </p>\n",
    ">>>>>>>\n",
    ">>>>>>> #### __**Links**__ ✔️\n",
    ">>>>>>>\n",
    ">>>>>>> **[1]** [https://www.kaggle.com/datasets/sidhus/crab-age-prediction](https://www.kaggle.com/datasets/sidhus/crab-age-prediction)\n",
    ">>>>>>>\n",
    ">>>>>>> **[2]** [https://scikit-learn.org/stable/modules/svm.html](https://scikit-learn.org/stable/modules/svm.html)\n",
    ">>>>>>>\n",
    ">>>>>>> **[3]** [https://repository.library.noaa.gov/view/noaa/16273/noaa_16273_DS4.pdf](https://repository.library.noaa.gov/view/noaa/16273/noaa_16273_DS4.pdf)\n",
    ">>>>>>>\n",
    ">>>>>>> **[4]** [https://faculty.math.illinois.edu/~hildebr/tex/latex-start.html](https://faculty.math.illinois.edu/~hildebr/tex/latex-start.html)\n",
    ">>>>>>>\n",
    ">>>>>>> **[5]** [https://github.com/krishnaik06/Multiple-Linear-Regression](https://github.com/krishnaik06/Multiple-Linear-Regression)\n",
    ">>>>>>>\n",
    ">>>>>>> **[6]** [https://github.com/13rianlucero/CrabAgePrediction](https://github.com/13rianlucero/CrabAgePrediction)\n",
    ">>>>>>>\n",
    ">>>>>>> ___\n",
    ">>>>>>>\n",
    ">>>>>>\n",
    ">>>>>> ___\n",
    ">>>>>>\n",
    ">>>>>\n",
    ">>>>> ___\n",
    ">>>>>\n",
    ">>>>\n",
    ">>>> ___\n",
    ">>>>\n",
    ">>>\n",
    ">>> ___\n",
    ">>>\n",
    ">>\n",
    ">> ___\n",
    ">>\n",
    ">\n",
    "> ___\n",
    "\n",
    "___\n",
    " "
   ]
  },
  {
   "cell_type": "markdown",
   "id": "d809da7b",
   "metadata": {},
   "source": [
    "# ***CODE***\n",
    "---"
   ]
  },
  {
   "cell_type": "markdown",
   "id": "38f64c95",
   "metadata": {},
   "source": [
    "> **[CONTENTS:]()**\n",
    "> **[1-INITIAL_SETUP]()**\n",
    ">   - Import Libraries\n",
    ">   - Import Dataset\n",
    "> - **[2-DATA-PREPROCESSING]()**\n",
    ">   - Convert Sex Categorical value into Numerical Value\n",
    ">   - Pearson correlation for every feature\n",
    "> - **[3-TRAIN_TEST_SPLIT]()**\n",
    ">   - Split the data into* Test set & Train set\n",
    ">   - Determine value for K in KNN Model \n",
    "> - **[4-BUILD_AND_TRAIN_MODELS]()**\n",
    ">   - K-Nearest Neighbors -- KNN:\n",
    ">   - Multiple Linear Regression -- MLR:\n",
    ">   - Support Vector Regression -- SVR:\n",
    "> - **[5-PLOT_TEST_RESULTS]**\n",
    ">   - Plot the [Predicted Age] against the [Actual Age] for the Test Set\n",
    ">   - Plot the Aggreagate Summary (3 model plot)\n",
    ">   - Plot the Aggreagate Summary (3 model plot)\n",
    "> - **[6-PLOT_EACH_INDIVIDUAL_MODEL]()**:\n",
    ">   - `1. KNN`\n",
    ">   - `2. MLR`\n",
    ">   - `3. SVR`\n",
    "> - **[MAIN.PY]()**\n",
    "\n",
    "\n",
    "\n",
    "\n"
   ]
  },
  {
   "cell_type": "markdown",
   "id": "acf11b56",
   "metadata": {},
   "source": [
    "## **1-InititalSetup**\n",
    "___"
   ]
  },
  {
   "cell_type": "markdown",
   "id": "7a158463",
   "metadata": {},
   "source": [
    "### *Import the Libraries*"
   ]
  },
  {
   "cell_type": "code",
   "execution_count": 29,
   "id": "0ca09e50",
   "metadata": {},
   "outputs": [],
   "source": [
    "import pandas\n",
    "import numpy\n",
    "from scipy import stats\n",
    "from matplotlib import pyplot as plt\n",
    "from sklearn.model_selection import train_test_split\n",
    "from sklearn.neighbors import KNeighborsClassifier\n",
    "from sklearn import svm\n",
    "from sklearn.linear_model import LinearRegression\n",
    "from sklearn.metrics import r2_score"
   ]
  },
  {
   "cell_type": "markdown",
   "id": "e59e33b1",
   "metadata": {},
   "source": [
    "### *Import Dataset into Dataframe variable*\n"
   ]
  },
  {
   "cell_type": "code",
   "execution_count": 30,
   "id": "7e26d499",
   "metadata": {},
   "outputs": [
    {
     "name": "stdout",
     "output_type": "stream",
     "text": [
      "Index(['Sex', 'Length', 'Diameter', 'Height', 'Weight', 'Shucked Weight',\n",
      "       'Viscera Weight', 'Shell Weight', 'Age'],\n",
      "      dtype='object')\n",
      "     Sex  Length  Diameter  Height     Weight  Shucked Weight  Viscera Weight  \\\n",
      "0      F  1.4375    1.1750  0.4125  24.635715       12.332033        5.584852   \n",
      "1      M  0.8875    0.6500  0.2125   5.400580        2.296310        1.374951   \n",
      "2      I  1.0375    0.7750  0.2500   7.952035        3.231843        1.601747   \n",
      "3      F  1.1750    0.8875  0.2500  13.480187        4.748541        2.282135   \n",
      "4      I  0.8875    0.6625  0.2125   6.903103        3.458639        1.488349   \n",
      "...   ..     ...       ...     ...        ...             ...             ...   \n",
      "3888   F  1.4625    1.1375  0.3250  24.819987       11.651644        5.854172   \n",
      "3889   F  1.5500    1.2125  0.4375  34.458817       15.450477        7.172423   \n",
      "3890   I  0.6250    0.4625  0.1625   2.012815        0.765436        0.524466   \n",
      "3891   I  1.0625    0.7750  0.2625  10.347568        4.507570        2.338834   \n",
      "3892   I  0.7875    0.6125  0.2125   4.068153        1.502523        1.346601   \n",
      "\n",
      "      Shell Weight  Age  SexValue  \n",
      "0         6.747181    9         0  \n",
      "1         1.559222    6         0  \n",
      "2         2.764076    6         0  \n",
      "3         5.244657   10         0  \n",
      "4         1.700970    6         0  \n",
      "...            ...  ...       ...  \n",
      "3888      6.378637    8         0  \n",
      "3889      9.780577   10         0  \n",
      "3890      0.637864    5         0  \n",
      "3891      2.976698    6         0  \n",
      "3892      1.417475    8         0  \n",
      "\n",
      "[3893 rows x 10 columns]\n"
     ]
    }
   ],
   "source": [
    "data = pandas.read_csv(r\"CrabAgePrediction.csv\").dropna(axis=0)\n",
    "print(data.columns)\n",
    "data[\"SexValue\"] = 0 #create a new column\n",
    "\n",
    "print(data)"
   ]
  },
  {
   "cell_type": "markdown",
   "id": "053be0ee",
   "metadata": {},
   "source": [
    "## 2-DataPreprocessing\n",
    "___\n"
   ]
  },
  {
   "cell_type": "markdown",
   "id": "9d94dd5e",
   "metadata": {},
   "source": [
    "### *Convert Sex Categorical value into Numerical Value*"
   ]
  },
  {
   "cell_type": "code",
   "execution_count": 31,
   "id": "b0fb955a",
   "metadata": {},
   "outputs": [
    {
     "name": "stdout",
     "output_type": "stream",
     "text": [
      "<class 'pandas.core.frame.DataFrame'>\n",
      "RangeIndex: 3893 entries, 0 to 3892\n",
      "Data columns (total 7 columns):\n",
      " #   Column          Non-Null Count  Dtype  \n",
      "---  ------          --------------  -----  \n",
      " 0   Length          3893 non-null   float64\n",
      " 1   Diameter        3893 non-null   float64\n",
      " 2   Height          3893 non-null   float64\n",
      " 3   Weight          3893 non-null   float64\n",
      " 4   Shucked Weight  3893 non-null   float64\n",
      " 5   Viscera Weight  3893 non-null   float64\n",
      " 6   Shell Weight    3893 non-null   float64\n",
      "dtypes: float64(7)\n",
      "memory usage: 213.0 KB\n",
      "<class 'pandas.core.frame.DataFrame'>\n",
      "RangeIndex: 3893 entries, 0 to 3892\n",
      "Data columns (total 1 columns):\n",
      " #   Column  Non-Null Count  Dtype\n",
      "---  ------  --------------  -----\n",
      " 0   Age     3893 non-null   int64\n",
      "dtypes: int64(1)\n",
      "memory usage: 30.5 KB\n"
     ]
    }
   ],
   "source": [
    "# Putting all our data together and dropping Sex for SexValue\n",
    "data = data[[\"SexValue\", \"Length\", \"Diameter\", \"Height\", \"Weight\", \"Shucked Weight\", \"Viscera Weight\", \"Shell Weight\", \"Age\"]]\n",
    "X = data[[\"Length\", \"Diameter\", \"Height\", \"Weight\", \"Shucked Weight\", \"Viscera Weight\", \"Shell Weight\"]]\n",
    "y = data[[\"Age\"]]\n",
    "\n",
    "# Visualize the data\n",
    "data.describe()\n",
    "\n",
    "X.info()\n",
    "y.info()"
   ]
  },
  {
   "cell_type": "markdown",
   "id": "ea5a7743",
   "metadata": {},
   "source": [
    "### *Pearson correlation for every feature*"
   ]
  },
  {
   "cell_type": "code",
   "execution_count": 32,
   "id": "a355ad59",
   "metadata": {},
   "outputs": [
    {
     "name": "stdout",
     "output_type": "stream",
     "text": [
      "(nan, nan)\n",
      "(array([0.5549732839723299], dtype=object), 1.9699194608e-313)\n",
      "(array([0.5738443164409989], dtype=object), 0.0)\n",
      "(array([0.5519563592563644], dtype=object), 2.31460580813873e-309)\n",
      "(array([0.5388194354367395], dtype=object), 4.071814981169477e-292)\n",
      "(array([0.41875977260190494], dtype=object), 3.776041286385598e-165)\n",
      "(array([0.5013277738041874], dtype=object), 6.902144598512297e-247)\n",
      "(array([0.625194993696918], dtype=object), 0.0)\n"
     ]
    },
    {
     "name": "stderr",
     "output_type": "stream",
     "text": [
      "/Library/Frameworks/Python.framework/Versions/3.9/lib/python3.9/site-packages/scipy/stats/_stats_py.py:4068: PearsonRConstantInputWarning: An input array is constant; the correlation coefficient is not defined.\n",
      "  warnings.warn(PearsonRConstantInputWarning())\n"
     ]
    }
   ],
   "source": [
    "# Pearson correlation for every feature\n",
    "col_cor = stats.pearsonr(data[\"SexValue\"], y)\n",
    "col1_cor = stats.pearsonr(data[\"Length\"], y)\n",
    "col2_cor = stats.pearsonr(data[\"Diameter\"], y)\n",
    "col3_cor = stats.pearsonr(data[\"Height\"], y)\n",
    "col4_cor = stats.pearsonr(data[\"Weight\"], y)\n",
    "col5_cor = stats.pearsonr(data[\"Shucked Weight\"], y)\n",
    "col6_cor = stats.pearsonr(data[\"Viscera Weight\"], y)\n",
    "col7_cor = stats.pearsonr(data[\"Shell Weight\"], y)\n",
    "print(col_cor)\n",
    "print(col1_cor)\n",
    "print(col2_cor)\n",
    "print(col3_cor)\n",
    "print(col4_cor)\n",
    "print(col5_cor)\n",
    "print(col6_cor)\n",
    "print(col7_cor)"
   ]
  },
  {
   "cell_type": "markdown",
   "id": "41d88d2e",
   "metadata": {},
   "source": [
    "## TestTrainReAnalyze\n",
    "___\n"
   ]
  },
  {
   "cell_type": "markdown",
   "id": "9763488f",
   "metadata": {},
   "source": [
    "### *Split the data into* ***Test set*** *&* ***Train set***\n"
   ]
  },
  {
   "cell_type": "code",
   "execution_count": null,
   "id": "0c6b28e1",
   "metadata": {},
   "outputs": [],
   "source": [
    "# Split the data into test and train set\n",
    "X_train, X_test, y_train, y_test = train_test_split(X, y, test_size=0.3, random_state=132)"
   ]
  },
  {
   "cell_type": "markdown",
   "id": "b1bad380",
   "metadata": {},
   "source": [
    "### K-Nearest Neighbours \n",
    "`Determining the appropriate value for K`"
   ]
  },
  {
   "cell_type": "code",
   "execution_count": null,
   "id": "44ba0011",
   "metadata": {},
   "outputs": [],
   "source": [
    "#n_neighbors plot\n",
    "error_rate = []\n",
    "y_test2 = numpy.ravel(y_test)\n",
    "for k in range(1, 31):\n",
    "    neigh = KNeighborsClassifier(n_neighbors=k)\n",
    "    neigh.fit(X_train, numpy.ravel(y_train))\n",
    "    knn_predict = neigh.predict(X_test)\n",
    "    error_knn = 0\n",
    "    for x in range(0, 1168):\n",
    "        error_knn += abs(knn_predict[x] - y_test2[x])\n",
    "    error_rate.append(error_knn/1169)\n",
    "\n",
    "plt.plot(range(1, 31), error_rate)\n",
    "plt.xlabel(\"n_neighbors\")\n",
    "plt.ylabel(\"error_rate\")\n",
    "plt.title(\"Average error vs n_neighbors\")\n",
    "plt.show()"
   ]
  },
  {
   "cell_type": "markdown",
   "id": "9ac81d84",
   "metadata": {},
   "source": [
    "## **5-BuildTrainModels**\n",
    "___\n",
    "\n",
    "### ***K-Nearest Neighbors -- KNN:***\n",
    "\n"
   ]
  },
  {
   "cell_type": "code",
   "execution_count": null,
   "id": "e298b8a5",
   "metadata": {},
   "outputs": [],
   "source": [
    "#KNN\n",
    "neigh = KNeighborsClassifier(n_neighbors=20)\n",
    "neigh.fit(X_train, numpy.ravel(y_train))\n",
    "knn_predict = neigh.predict(X_test)"
   ]
  },
  {
   "cell_type": "markdown",
   "id": "4b881009",
   "metadata": {},
   "source": [
    "### ***Multiple Linear Regression -- MLR:***\n"
   ]
  },
  {
   "cell_type": "code",
   "execution_count": null,
   "id": "88696c7c",
   "metadata": {},
   "outputs": [],
   "source": [
    "#Multiple Linear Regression\n",
    "regressor = LinearRegression()\n",
    "regressor.fit(X_train, y_train)\n",
    "y_pred = regressor.predict(X_test)\n",
    "score = r2_score(y_test,y_pred)"
   ]
  },
  {
   "cell_type": "markdown",
   "id": "ca4f3417",
   "metadata": {},
   "source": [
    "### ***Support Vector Regression -- SVR:***"
   ]
  },
  {
   "cell_type": "markdown",
   "id": "080e39c7",
   "metadata": {},
   "source": [
    "\n",
    "## **6-PlotTestResults**\n",
    "___\n"
   ]
  },
  {
   "cell_type": "markdown",
   "id": "efd48be9",
   "metadata": {},
   "source": [
    "\n",
    "### Capture the Live Results"
   ]
  },
  {
   "cell_type": "code",
   "execution_count": null,
   "id": "236abcfc",
   "metadata": {},
   "outputs": [],
   "source": [
    "\n",
    "# Plot the predicted age against the actual age for the test set\n",
    "plt.plot(range(1, 1169), knn_predict)\n",
    "plt.plot(range(1, 1169), y_pred)\n",
    "plt.plot(range(1, 1169), regr_predict)\n",
    "plt.plot(range(1, 1169), numpy.ravel(y_test))\n",
    "plt.xlim([0, 50])"
   ]
  },
  {
   "cell_type": "markdown",
   "id": "8a42b992",
   "metadata": {},
   "source": [
    "### Show Performance Measure\n",
    "`Evaluate the models in comparison:`"
   ]
  },
  {
   "cell_type": "code",
   "execution_count": null,
   "id": "fe4e706a",
   "metadata": {},
   "outputs": [],
   "source": [
    "error_knn = 0\n",
    "error_mlr = 0\n",
    "error_svr = 0\n",
    "y_test2 = numpy.ravel(y_test)\n",
    "for x in range(0, 1168):\n",
    "    error_knn += abs(knn_predict[x] - y_test2[x])\n",
    "    error_mlr += abs(y_pred[x] - y_test2[x])\n",
    "    error_svr += abs(regr_predict[x] - y_test2[x])\n",
    "\n",
    "print (error_knn/1169)\n",
    "print (error_mlr/1169)\n",
    "print (error_svr/1169)"
   ]
  },
  {
   "cell_type": "markdown",
   "id": "951bee01",
   "metadata": {},
   "source": [
    "End of Main ML System Software"
   ]
  },
  {
   "cell_type": "code",
   "execution_count": 33,
   "id": "8b824b5c",
   "metadata": {},
   "outputs": [
    {
     "name": "stdout",
     "output_type": "stream",
     "text": [
      "Index(['Sex', 'Length', 'Diameter', 'Height', 'Weight', 'Shucked Weight',\n",
      "       'Viscera Weight', 'Shell Weight', 'Age'],\n",
      "      dtype='object')\n",
      "(array([0.033699509736789965], dtype=object), 0.03550371594306473)\n",
      "(array([0.5549732839723299], dtype=object), 1.9699194608e-313)\n",
      "(array([0.5738443164409989], dtype=object), 0.0)\n",
      "(array([0.5519563592563644], dtype=object), 2.31460580813873e-309)\n",
      "(array([0.5388194354367395], dtype=object), 4.071814981169477e-292)\n",
      "(array([0.41875977260190494], dtype=object), 3.776041286385598e-165)\n",
      "(array([0.5013277738041874], dtype=object), 6.902144598512297e-247)\n",
      "(array([0.625194993696918], dtype=object), 0.0)\n"
     ]
    },
    {
     "data": {
      "image/png": "[encoded data removed]",
      "text/plain": [
       "<Figure size 432x288 with 1 Axes>"
      ]
     },
     "metadata": {
      "needs_background": "light"
     },
     "output_type": "display_data"
    },
    {
     "data": {
      "image/png": "[encoded data removed]",
      "text/plain": [
       "<Figure size 432x288 with 1 Axes>"
      ]
     },
     "metadata": {
      "needs_background": "light"
     },
     "output_type": "display_data"
    },
    {
     "name": "stdout",
     "output_type": "stream",
     "text": [
      "1.6184773310521814\n",
      "[1.5592029]\n",
      "1.4714217006226644\n"
     ]
    }
   ],
   "source": [
    "################# COMPLETE CODE (MAIN.PY) FILE ###################\n",
    "################# COMPLETE CODE (MAIN.PY) FILE ###################\n",
    "################# COMPLETE CODE (MAIN.PY) FILE ###################\n",
    "################# COMPLETE CODE (MAIN.PY) FILE ###################\n",
    "\n",
    "\n",
    "import pandas\n",
    "import numpy\n",
    "from scipy import stats\n",
    "from matplotlib import pyplot as plt\n",
    "from sklearn.model_selection import train_test_split\n",
    "from sklearn.neighbors import KNeighborsClassifier\n",
    "from sklearn import svm\n",
    "from sklearn.linear_model import LinearRegression\n",
    "from sklearn.metrics import r2_score\n",
    "\n",
    "data = pandas.read_csv(r\"CrabAgePrediction.csv\").dropna(axis=0)\n",
    "print(data.columns)\n",
    "data[\"SexValue\"] = 0 #create a new column\n",
    "\n",
    "for index, row in data.iterrows():\n",
    "    #convert male or female to a numerical value     Male=1, Female=2, Indeterminate=1.5\n",
    "    if row[\"Sex\"] == \"M\":\n",
    "        data.iloc[index, 9] = 1\n",
    "    elif row[\"Sex\"] == \"F\":\n",
    "        data.iloc[index, 9] = 2\n",
    "    else:\n",
    "        data.iloc[index, 9] = 1.5\n",
    "\n",
    "#putting all our data together and dropping Sex for SexValue\n",
    "data = data[[\"SexValue\", \"Length\", \"Diameter\", \"Height\", \"Weight\", \"Shucked Weight\", \"Viscera Weight\", \"Shell Weight\", \"Age\"]]\n",
    "X = data[[\"Length\", \"Diameter\", \"Height\", \"Weight\", \"Shucked Weight\", \"Viscera Weight\", \"Shell Weight\"]]\n",
    "y = data[[\"Age\"]]\n",
    "\n",
    "#Pearson correlation for every feature\n",
    "col_cor = stats.pearsonr(data[\"SexValue\"], y)\n",
    "col1_cor = stats.pearsonr(data[\"Length\"], y)\n",
    "col2_cor = stats.pearsonr(data[\"Diameter\"], y)\n",
    "col3_cor = stats.pearsonr(data[\"Height\"], y)\n",
    "col4_cor = stats.pearsonr(data[\"Weight\"], y)\n",
    "col5_cor = stats.pearsonr(data[\"Shucked Weight\"], y)\n",
    "col6_cor = stats.pearsonr(data[\"Viscera Weight\"], y)\n",
    "col7_cor = stats.pearsonr(data[\"Shell Weight\"], y)\n",
    "print(col_cor)\n",
    "print(col1_cor)\n",
    "print(col2_cor)\n",
    "print(col3_cor)\n",
    "print(col4_cor)\n",
    "print(col5_cor)\n",
    "print(col6_cor)\n",
    "print(col7_cor)\n",
    "\n",
    "#split the data into test and train set\n",
    "X_train, X_test, y_train, y_test = train_test_split(X, y, test_size=0.3, random_state=132)\n",
    "\n",
    "#n_neighbors plot\n",
    "error_rate = []\n",
    "y_test2 = numpy.ravel(y_test)\n",
    "for k in range(1, 31):\n",
    "    neigh = KNeighborsClassifier(n_neighbors=k)\n",
    "    neigh.fit(X_train, numpy.ravel(y_train))\n",
    "    knn_predict = neigh.predict(X_test)\n",
    "    error_knn = 0\n",
    "    for x in range(0, 1168):\n",
    "        error_knn += abs(knn_predict[x] - y_test2[x])\n",
    "    error_rate.append(error_knn/1169)\n",
    "\n",
    "plt.plot(range(1, 31), error_rate)\n",
    "plt.xlabel(\"n_neighbors\")\n",
    "plt.ylabel(\"error_rate\")\n",
    "plt.title(\"Average error vs n_neighbors\")\n",
    "plt.show()\n",
    "\n",
    "# KNN\n",
    "neigh = KNeighborsClassifier(n_neighbors=20)\n",
    "neigh.fit(X_train, numpy.ravel(y_train))\n",
    "knn_predict = neigh.predict(X_test)\n",
    "\n",
    "# Multiple Linear Regression\n",
    "regressor = LinearRegression()\n",
    "regressor.fit(X_train, y_train)\n",
    "y_pred = regressor.predict(X_test)\n",
    "score = r2_score(y_test,y_pred)\n",
    "\n",
    "\n",
    "# SVR\n",
    "regr = svm.SVR()\n",
    "regr.fit(X_train, numpy.ravel(y_train))\n",
    "regr_predict = regr.predict(X_test)\n",
    "\n",
    "# Plot the predicted age against the actual age for the test set\n",
    "plt.plot(range(1, 1169), knn_predict)\n",
    "plt.plot(range(1, 1169), y_pred)\n",
    "plt.plot(range(1, 1169), regr_predict)\n",
    "plt.plot(range(1, 1169), numpy.ravel(y_test))\n",
    "plt.xlim([0, 50])\n",
    "\n",
    "#plt.xlim([60, 90])\n",
    "plt.legend([\"KNN Predicted Age\", \"LR Predicted Age\", \"SVR Predicted Age\",  \"Actual Age\"])\n",
    "plt.ylabel(\"Age in months\")\n",
    "plt.title(\"Predicted vs Actual Crab Age\")\n",
    "plt.show()\n",
    "\n",
    "error_knn = 0\n",
    "error_mlr = 0\n",
    "error_svr = 0\n",
    "y_test2 = numpy.ravel(y_test)\n",
    "for x in range(0, 1168):\n",
    "    error_knn += abs(knn_predict[x] - y_test2[x])\n",
    "    error_mlr += abs(y_pred[x] - y_test2[x])\n",
    "    error_svr += abs(regr_predict[x] - y_test2[x])\n",
    "\n",
    "print (error_knn/1169)\n",
    "print (error_mlr/1169)\n",
    "print (error_svr/1169)"
   ]
  }
 ],
 "metadata": {
  "interpreter": {
   "hash": "aee8b7b246df8f9039afb4144a1f6fd8d2ca17a180786b69acc140d282b71a49"
  },
  "kernelspec": {
   "display_name": "Python 3 (ipykernel)",
   "language": "python",
   "name": "python3"
  },
  "language_info": {
   "codemirror_mode": {
    "name": "ipython",
    "version": 3
   },
   "file_extension": ".py",
   "mimetype": "text/x-python",
   "name": "python",
   "nbconvert_exporter": "python",
   "pygments_lexer": "ipython3",
   "version": "3.9.7"
  },
  "papermill": {
   "default_parameters": {},
   "duration": 21.484902,
   "end_time": "2021-12-04T15:08:32.152459",
   "environment_variables": {},
   "exception": null,
   "input_path": "__notebook__.ipynb",
   "output_path": "__notebook__.ipynb",
   "parameters": {},
   "start_time": "2021-12-04T15:08:10.667557",
   "version": "2.3.3"
  }
 },
 "nbformat": 4,
 "nbformat_minor": 5
}
